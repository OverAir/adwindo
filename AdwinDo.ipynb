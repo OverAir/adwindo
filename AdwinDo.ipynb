{
 "cells": [
  {
   "cell_type": "markdown",
   "source": [
    "# Building AdwinDo - A journey towards an improved adaptive windowing algorithm package based on ADWIN."
   ],
   "metadata": {}
  },
  {
   "cell_type": "markdown",
   "source": [
    "## BACKGROUND"
   ],
   "metadata": {}
  },
  {
   "cell_type": "markdown",
   "source": [
    "The ADWIN (ADaptive WINdowing) algorithm, based on Bifet and Gavaldà (2007)[1], is \"a new approach for dealing with distribution change and concept drift when learning from data sequences that may vary with time.\" The size of sliding windows used to measure statistics is \"recomputed online according to the rate of change observed from the data in the window itself.\" The ADWIN algorithm provides \"rigorous guarantees of performance, as bounds on the rates of false positives and false negatives\". These bounds are defined by $\\delta$ (delta). "
   ],
   "metadata": {}
  },
  {
   "cell_type": "markdown",
   "source": [
    "## 1. Setup"
   ],
   "metadata": {}
  },
  {
   "cell_type": "markdown",
   "source": [
    "### import libraries"
   ],
   "metadata": {}
  },
  {
   "cell_type": "code",
   "execution_count": null,
   "source": [
    "import csv\r\n",
    "import numpy as np\r\n",
    "import pandas as pd\r\n",
    "import matplotlib.pyplot as plt\r\n",
    "import plotdata as plot\r\n",
    "import testdata as td\r\n",
    "from skmultiflow.drift_detection.adwin import ADWIN"
   ],
   "outputs": [],
   "metadata": {}
  },
  {
   "cell_type": "markdown",
   "source": [
    "### load data"
   ],
   "metadata": {}
  },
  {
   "cell_type": "code",
   "execution_count": null,
   "source": [
    "# ABRUPT DRIFTS\r\n",
    "stream_name_abrupt1 = \"data/moa-abrupt-1.txt\"    # single abrupt up down\r\n",
    "data_stream_abrupt1 = pd.read_csv(stream_name_abrupt1, sep=\",\", header=None, names=[\"input\"], usecols=[6], squeeze=True)\r\n",
    "\r\n",
    "stream_name_abrupt2 = \"data/moa-abrupt-2.txt\"    # double abrupt up down up\r\n",
    "data_stream_abrupt2 = pd.read_csv(stream_name_abrupt2, sep=\",\", header=None, names=[\"input\"], usecols=[6], squeeze=True)\r\n",
    "\r\n",
    "# GRADUAL DRIFTS\r\n",
    "stream_name_gradual = \"data/moa-gradual-1.txt\"   # single gradual up down\r\n",
    "data_stream_gradual = pd.read_csv(stream_name_gradual, sep=\",\", header=None, names=[\"input\"], usecols=[6], squeeze=True)"
   ],
   "outputs": [],
   "metadata": {}
  },
  {
   "cell_type": "markdown",
   "source": [
    "### helper function to run algorithm against provided input data"
   ],
   "metadata": {}
  },
  {
   "cell_type": "code",
   "execution_count": null,
   "source": [
    "# Add stream elements to ADWIN and adjudicate if drift occurred\r\n",
    "def start_adwin(stream, stream_name):\r\n",
    "    for idx in range(len(stream)):\r\n",
    "        adwin.add_element(stream[idx])\r\n",
    "        window_width.append(adwin.width)    # plots window width\r\n",
    "        if adwin.detected_change():\r\n",
    "            print(f\"Change in index {idx} for stream value {stream[idx]}, width {adwin.width}, window mean {adwin.estimation}, window variance {adwin.variance}\")\r\n",
    "            vertical_lines.append(idx)    # show vertical lines\r\n",
    "            \r\n",
    "        width_vs_variance.append((adwin.width, adwin.variance, idx))\r\n",
    "        # print(f\"width vs variance {width_vs_variance} \\n\")\r\n",
    "\r\n",
    "    # plot stream and window\r\n",
    "    caption = \"delta: \" + str(DELTA) + \"\\n\" + \"buckets: 5\"\r\n",
    "    plot.plot3data(stream, window_width, vertical_lines, caption, stream_name)\r\n",
    "    return {\r\n",
    "        \"stream\": stream,\r\n",
    "        \"window_width\": window_width,\r\n",
    "        \"vertical_lines\": vertical_lines,\r\n",
    "        \"caption\": caption,\r\n",
    "        \"stream_name\": stream_name\r\n",
    "    }"
   ],
   "outputs": [],
   "metadata": {}
  },
  {
   "cell_type": "markdown",
   "source": [
    "## 2. Original ADWIN algorithm package in scikit-multiflow"
   ],
   "metadata": {}
  },
  {
   "cell_type": "markdown",
   "source": [
    "### 2.1. Abrupt drift 1"
   ],
   "metadata": {}
  },
  {
   "cell_type": "code",
   "execution_count": null,
   "source": [
    "data_stream_abrupt1"
   ],
   "outputs": [],
   "metadata": {}
  },
  {
   "cell_type": "code",
   "execution_count": null,
   "source": [
    "fig = plt.figure()\r\n",
    "ax1 = plt.subplot()\r\n",
    "\r\n",
    "color = 'tab:blue'\r\n",
    "ax1.set_xlabel('time (t)')\r\n",
    "ax1.set_ylabel('value')\r\n",
    "ax1.plot(data_stream_abrupt1)\r\n",
    "ax1.tick_params(axis='y', labelcolor=color)\r\n",
    "\r\n",
    "plt.show()"
   ],
   "outputs": [],
   "metadata": {}
  },
  {
   "cell_type": "code",
   "execution_count": null,
   "source": [
    "DELTA = 0.002\r\n",
    "\r\n",
    "adwin = ADWIN(DELTA)\r\n",
    "\r\n",
    "window_width = []\r\n",
    "vertical_lines = []\r\n",
    "width_vs_variance = []\r\n",
    "\r\n",
    "caption = \"\"\r\n",
    "\r\n",
    "result_sk_abrupt1 = start_adwin(data_stream_abrupt1, stream_name_abrupt1)"
   ],
   "outputs": [],
   "metadata": {
    "scrolled": true
   }
  },
  {
   "cell_type": "markdown",
   "source": [
    " ### 2.2. Abrupt drift 2"
   ],
   "metadata": {}
  },
  {
   "cell_type": "code",
   "execution_count": null,
   "source": [
    "data_stream_abrupt2"
   ],
   "outputs": [],
   "metadata": {}
  },
  {
   "cell_type": "code",
   "execution_count": null,
   "source": [
    "fig = plt.figure()\n",
    "ax1 = plt.subplot()\n",
    "\n",
    "color = 'tab:blue'\n",
    "ax1.set_xlabel('time (t)')\n",
    "ax1.set_ylabel('value')\n",
    "ax1.plot(data_stream_abrupt2)\n",
    "ax1.tick_params(axis='y', labelcolor=color)\n",
    "\n",
    "plt.show()"
   ],
   "outputs": [],
   "metadata": {}
  },
  {
   "cell_type": "code",
   "execution_count": null,
   "source": [
    "DELTA = 0.002\r\n",
    "\r\n",
    "adwin = ADWIN(DELTA)\r\n",
    "\r\n",
    "window_width = []\r\n",
    "vertical_lines = []\r\n",
    "width_vs_variance = []\r\n",
    "\r\n",
    "caption = \"\"\r\n",
    "\r\n",
    "result_sk_abrupt2 = start_adwin(data_stream_abrupt2, stream_name_abrupt2)"
   ],
   "outputs": [],
   "metadata": {}
  },
  {
   "cell_type": "markdown",
   "source": [
    "### 2.3. Gradual drift"
   ],
   "metadata": {}
  },
  {
   "cell_type": "code",
   "execution_count": null,
   "source": [
    "data_stream_gradual"
   ],
   "outputs": [],
   "metadata": {}
  },
  {
   "cell_type": "code",
   "execution_count": null,
   "source": [
    "fig = plt.figure()\r\n",
    "ax1 = plt.subplot()\r\n",
    "\r\n",
    "color = 'tab:blue'\r\n",
    "ax1.set_xlabel('time (t)')\r\n",
    "ax1.set_ylabel('value')\r\n",
    "ax1.plot(data_stream_gradual)\r\n",
    "ax1.tick_params(axis='y', labelcolor=color)\r\n",
    "\r\n",
    "plt.show()"
   ],
   "outputs": [],
   "metadata": {}
  },
  {
   "cell_type": "code",
   "execution_count": null,
   "source": [
    "DELTA = 0.002\r\n",
    "\r\n",
    "adwin = ADWIN(DELTA)\r\n",
    "\r\n",
    "window_width = []\r\n",
    "vertical_lines = []\r\n",
    "width_vs_variance = []\r\n",
    "\r\n",
    "caption = \"\"\r\n",
    "\r\n",
    "result_sk_gradual = start_adwin(data_stream_gradual, stream_name_gradual)"
   ],
   "outputs": [],
   "metadata": {}
  },
  {
   "cell_type": "markdown",
   "source": [
    "## 3. Original ADWIN algorithm package in River (successor to scikit-multiflow)"
   ],
   "metadata": {}
  },
  {
   "cell_type": "markdown",
   "source": [
    "According to https://github.com/scikit-multiflow/scikit-multiflow, \"creme and scikit-multiflow are merging into a new project called River. ...Both projects will stop active development.\" The following is the baseline ADWIN algorithm output from the River library. Notice that it very closely matches the scikit output with a few differences in drifts detected."
   ],
   "metadata": {}
  },
  {
   "cell_type": "markdown",
   "source": [
    "#### Replace scikit package with River package"
   ],
   "metadata": {}
  },
  {
   "cell_type": "code",
   "execution_count": null,
   "source": [
    "from river.drift.adwin import ADWIN"
   ],
   "outputs": [],
   "metadata": {}
  },
  {
   "cell_type": "markdown",
   "source": [
    "#### Update helper function to match River package format"
   ],
   "metadata": {}
  },
  {
   "cell_type": "code",
   "execution_count": null,
   "source": [
    "# Add stream elements to ADWIN and adjudicate if drift occurred\n",
    "def start_adwin(stream, stream_name):\n",
    "    for idx in range(len(stream)):\n",
    "        in_drift, in_warning = adwin.update(stream[idx])\n",
    "        window_width.append(adwin.width)    # plots window width\n",
    "        if in_drift:\n",
    "            print(f\"Change in index {idx} for stream value {stream[idx]}, width {adwin.width}, window mean {adwin.estimation}, window variance {adwin.variance}\")\n",
    "            vertical_lines.append(idx)    # show vertical lines\n",
    "            \n",
    "        width_vs_variance.append((adwin.width, adwin.variance, idx))\n",
    "        # print(f\"width vs variance {width_vs_variance} \\n\")\n",
    "\n",
    "    # plot stream and window\n",
    "    caption = \"delta: \" + str(DELTA) + \"\\n\" + \"buckets: 5\"\n",
    "    plot.plot3data(stream, window_width, vertical_lines, caption, stream_name)\n",
    "    return {\n",
    "        \"stream\": stream,\n",
    "        \"window_width\": window_width,\n",
    "        \"vertical_lines\": vertical_lines,\n",
    "        \"caption\": caption,\n",
    "        \"stream_name\": stream_name\n",
    "    }"
   ],
   "outputs": [],
   "metadata": {}
  },
  {
   "cell_type": "markdown",
   "source": [
    "### 3.1. Abrupt drift 1"
   ],
   "metadata": {}
  },
  {
   "cell_type": "code",
   "execution_count": null,
   "source": [
    "DELTA = 0.002\r\n",
    "\r\n",
    "adwin = ADWIN(DELTA)\r\n",
    "\r\n",
    "window_width = []\r\n",
    "vertical_lines = []\r\n",
    "width_vs_variance = []\r\n",
    "\r\n",
    "caption = \"\"\r\n",
    "\r\n",
    "result_adwog_abrupt1 = start_adwin(data_stream_abrupt1, stream_name_abrupt1)"
   ],
   "outputs": [],
   "metadata": {}
  },
  {
   "cell_type": "code",
   "execution_count": null,
   "source": [
    "plot.plotoutput21(result_adwog_abrupt1, \"RIVER OUTPUT\", result_sk_abrupt1, \"SCIKIT OUTPUT\")"
   ],
   "outputs": [],
   "metadata": {}
  },
  {
   "cell_type": "markdown",
   "source": [
    "### 3.2. Abrupt drift 2"
   ],
   "metadata": {}
  },
  {
   "cell_type": "code",
   "execution_count": null,
   "source": [
    "DELTA = 0.002\r\n",
    "\r\n",
    "adwin = ADWIN(DELTA)\r\n",
    "\r\n",
    "window_width = []\r\n",
    "vertical_lines = []\r\n",
    "width_vs_variance = []\r\n",
    "i = 0\r\n",
    "caption = \"\"\r\n",
    "\r\n",
    "result_adwog_abrupt2 = start_adwin(data_stream_abrupt2, stream_name_abrupt2)"
   ],
   "outputs": [],
   "metadata": {}
  },
  {
   "cell_type": "code",
   "execution_count": null,
   "source": [
    "# plot comparison with scikit result for abupt drift 2\r\n",
    "plot.plotoutput21(result_adwog_abrupt2, \"RIVER OUTPUT\", result_sk_abrupt2, \"SCIKIT OUTPUT\")"
   ],
   "outputs": [],
   "metadata": {}
  },
  {
   "cell_type": "markdown",
   "source": [
    "### 3.3. Gradual drift"
   ],
   "metadata": {}
  },
  {
   "cell_type": "code",
   "execution_count": null,
   "source": [
    "DELTA = 0.002\r\n",
    "\r\n",
    "adwin = ADWIN(DELTA)\r\n",
    "\r\n",
    "window_width = []\r\n",
    "vertical_lines = []\r\n",
    "width_vs_variance = []\r\n",
    "\r\n",
    "caption = \"\"\r\n",
    "\r\n",
    "result_adwog_gradual = start_adwin(data_stream_gradual, stream_name_gradual)"
   ],
   "outputs": [],
   "metadata": {}
  },
  {
   "cell_type": "code",
   "execution_count": null,
   "source": [
    "# plot comparison with scikit result for gradual drift\r\n",
    "plot.plotoutput21(result_adwog_gradual, \"RIVER OUTPUT\", result_sk_gradual, \"SCIKIT OUTPUT\")"
   ],
   "outputs": [],
   "metadata": {}
  },
  {
   "cell_type": "markdown",
   "source": [
    "## 4. Adjusting $\\delta$"
   ],
   "metadata": {}
  },
  {
   "cell_type": "markdown",
   "source": [
    "The only adjustable parameter the ADWIN module in the River package provides is $\\delta$ (delta), which effects the threshold necessary for a difference in bucket means to trigger a drift detection. A higher $\\delta$ will require a greater difference in means between two buckets to trigger a drift detection event. The default value in ADWIN module is 0.002."
   ],
   "metadata": {}
  },
  {
   "cell_type": "markdown",
   "source": [
    "### $\\delta = 0.0001$"
   ],
   "metadata": {}
  },
  {
   "cell_type": "markdown",
   "source": [
    "#### Abrupt drift 1 "
   ],
   "metadata": {}
  },
  {
   "cell_type": "code",
   "execution_count": null,
   "source": [
    "DELTA = 0.0001\n",
    "\n",
    "adwin = ADWIN(DELTA)\n",
    "\n",
    "window_width = []\n",
    "vertical_lines = []\n",
    "width_vs_variance = []\n",
    "i = 0\n",
    "caption = \"\"\n",
    "\n",
    "result_abrupt1_d0001 = start_adwin(data_stream_abrupt1, stream_name_abrupt1)"
   ],
   "outputs": [],
   "metadata": {}
  },
  {
   "cell_type": "code",
   "execution_count": null,
   "source": [
    "plot.plotoutput21(result_abrupt1_d0001, \"ADWIN DELTA ADJUSTMENT\", result_adwog_abrupt1, \"ADWIN DELTA ADJUSTMENT\")"
   ],
   "outputs": [],
   "metadata": {}
  },
  {
   "cell_type": "markdown",
   "source": [
    "#### Abrupt drift 2"
   ],
   "metadata": {}
  },
  {
   "cell_type": "code",
   "execution_count": null,
   "source": [
    "DELTA = 0.0001\n",
    "\n",
    "adwin = ADWIN(DELTA)\n",
    "\n",
    "window_width = []\n",
    "vertical_lines = []\n",
    "width_vs_variance = []\n",
    "i = 0\n",
    "caption = \"\"\n",
    "\n",
    "result_abrupt2_d0001 = start_adwin(data_stream_abrupt2, stream_name_abrupt2)"
   ],
   "outputs": [],
   "metadata": {}
  },
  {
   "cell_type": "code",
   "execution_count": null,
   "source": [
    "plot.plotoutput21(result_abrupt2_d0001, \"ADWIN DELTA ADJUSTMENT\", result_adwog_abrupt2, \"ADWIN DELTA ADJUSTMENT\")"
   ],
   "outputs": [],
   "metadata": {}
  },
  {
   "cell_type": "markdown",
   "source": [
    "#### Gradual drift"
   ],
   "metadata": {}
  },
  {
   "cell_type": "code",
   "execution_count": null,
   "source": [
    "DELTA = 0.0001\n",
    "\n",
    "adwin = ADWIN(DELTA)\n",
    "\n",
    "window_width = []\n",
    "vertical_lines = []\n",
    "width_vs_variance = []\n",
    "i = 0\n",
    "caption = \"\"\n",
    "\n",
    "result_gradual_d0001 = start_adwin(data_stream_gradual, stream_name_gradual)"
   ],
   "outputs": [],
   "metadata": {}
  },
  {
   "cell_type": "code",
   "execution_count": null,
   "source": [
    "plot.plotoutput21(result_gradual_d0001, \"ADWIN DELTA ADJUSTMENT\", result_adwog_gradual, \"ADWIN DELTA ADJUSTMENT\")"
   ],
   "outputs": [],
   "metadata": {}
  },
  {
   "cell_type": "markdown",
   "source": [
    "### $\\delta = 0.01$"
   ],
   "metadata": {}
  },
  {
   "cell_type": "markdown",
   "source": [
    "#### Abrupt drift 1"
   ],
   "metadata": {}
  },
  {
   "cell_type": "code",
   "execution_count": null,
   "source": [
    "DELTA = 0.01\n",
    "\n",
    "adwin = ADWIN(DELTA)\n",
    "\n",
    "window_width = []\n",
    "vertical_lines = []\n",
    "width_vs_variance = []\n",
    "i = 0\n",
    "caption = \"\"\n",
    "\n",
    "result_abrupt1_d01 = start_adwin(data_stream_abrupt1, stream_name_abrupt1)"
   ],
   "outputs": [],
   "metadata": {
    "scrolled": true
   }
  },
  {
   "cell_type": "markdown",
   "source": [
    "#### Abrupt drift 2"
   ],
   "metadata": {}
  },
  {
   "cell_type": "code",
   "execution_count": null,
   "source": [
    "DELTA = 0.01\r\n",
    "\r\n",
    "adwin = ADWIN(DELTA)\r\n",
    "\r\n",
    "window_width = []\r\n",
    "vertical_lines = []\r\n",
    "width_vs_variance = []\r\n",
    "i = 0\r\n",
    "caption = \"\"\r\n",
    "\r\n",
    "result_abrupt2_d01 = result_adwog_abrupt1_d01 = start_adwin(data_stream_abrupt2, stream_name_abrupt2)"
   ],
   "outputs": [],
   "metadata": {}
  },
  {
   "cell_type": "markdown",
   "source": [
    "#### Gradual drift"
   ],
   "metadata": {}
  },
  {
   "cell_type": "code",
   "execution_count": null,
   "source": [
    "DELTA = 0.01\r\n",
    "\r\n",
    "adwin = ADWIN(DELTA)\r\n",
    "\r\n",
    "window_width = []\r\n",
    "vertical_lines = []\r\n",
    "width_vs_variance = []\r\n",
    "i = 0\r\n",
    "caption = \"\"\r\n",
    "\r\n",
    "result_gradual_d01 = start_adwin(data_stream_gradual, stream_name_gradual)"
   ],
   "outputs": [],
   "metadata": {}
  },
  {
   "cell_type": "markdown",
   "source": [
    "### $\\delta = 0.1$"
   ],
   "metadata": {}
  },
  {
   "cell_type": "markdown",
   "source": [
    "#### Abrupt drift 1"
   ],
   "metadata": {}
  },
  {
   "cell_type": "code",
   "execution_count": null,
   "source": [
    "DELTA = 0.1\n",
    "\n",
    "adwin = ADWIN(DELTA)\n",
    "\n",
    "window_width = []\n",
    "vertical_lines = []\n",
    "width_vs_variance = []\n",
    "i = 0\n",
    "caption = \"\"\n",
    "\n",
    "result_abrupt1_d1 = start_adwin(data_stream_abrupt1, stream_name_abrupt1)"
   ],
   "outputs": [],
   "metadata": {
    "scrolled": true
   }
  },
  {
   "cell_type": "markdown",
   "source": [
    "#### Abrupt drift 2"
   ],
   "metadata": {}
  },
  {
   "cell_type": "code",
   "execution_count": null,
   "source": [
    "DELTA = 0.1\n",
    "\n",
    "adwin = ADWIN(DELTA)\n",
    "\n",
    "window_width = []\n",
    "vertical_lines = []\n",
    "width_vs_variance = []\n",
    "i = 0\n",
    "caption = \"\"\n",
    "\n",
    "result_abrupt2_d1 = start_adwin(data_stream_abrupt2, stream_name_abrupt2)"
   ],
   "outputs": [],
   "metadata": {}
  },
  {
   "cell_type": "markdown",
   "source": [
    "#### Gradual drift"
   ],
   "metadata": {}
  },
  {
   "cell_type": "code",
   "execution_count": null,
   "source": [
    "DELTA = 0.1\r\n",
    "\r\n",
    "adwin = ADWIN(DELTA)\r\n",
    "\r\n",
    "window_width = []\r\n",
    "vertical_lines = []\r\n",
    "width_vs_variance = []\r\n",
    "i = 0\r\n",
    "caption = \"\"\r\n",
    "\r\n",
    "result_gradual_d1 = start_adwin(data_stream_gradual, stream_name_gradual)"
   ],
   "outputs": [],
   "metadata": {}
  },
  {
   "cell_type": "markdown",
   "source": [
    "#### Summary of Delta Ranges for Abupt1"
   ],
   "metadata": {}
  },
  {
   "cell_type": "code",
   "execution_count": null,
   "source": [
    "plot.plotoutput41(result_abrupt1_d0001, result_adwog_abrupt1, result_abrupt1_d01, result_abrupt1_d1, \"ABRUPT 1\")"
   ],
   "outputs": [],
   "metadata": {}
  },
  {
   "cell_type": "markdown",
   "source": [
    "#### Summary of Delta Ranges for Abupt2"
   ],
   "metadata": {}
  },
  {
   "cell_type": "code",
   "execution_count": null,
   "source": [
    "plot.plotoutput41(result_abrupt2_d0001, result_adwog_abrupt2, result_abrupt2_d01, result_abrupt2_d1, \"ABRUPT 2\" )"
   ],
   "outputs": [],
   "metadata": {}
  },
  {
   "cell_type": "markdown",
   "source": [
    "#### Summary of Delta Ranges for Gradual"
   ],
   "metadata": {}
  },
  {
   "cell_type": "code",
   "execution_count": null,
   "source": [
    "plot.plotoutput41(result_gradual_d0001, result_adwog_gradual, result_gradual_d01, result_gradual_d1, \"GRADUAL - RANGE OF DELTAS\")"
   ],
   "outputs": [],
   "metadata": {}
  },
  {
   "cell_type": "markdown",
   "source": [
    "## 5. Rescaling the input data"
   ],
   "metadata": {}
  },
  {
   "cell_type": "markdown",
   "source": [
    "According to Bifet and Gavaldà (2007)[1], the input values should be between 0 and 1 <i>(emphasis added)</i>:\n",
    "\n",
    ">The inputs to the [ADWIN] algorithms are a confidence value $\\delta \\in (0,1)$ and a (possibly infinite) sequence of real values $x_1, x_2, x_3, ..., x_t, ...$ The value of $x_t$ is available only at time $t$. Each $x_t$ is generated according to some distribution $D_t$, independently for every $t$. We denote with $\\mu_t$ the expected value when it is drawn according to $D_t$. <strong>We assume that $x_t$ is always in $[0,1]$</strong>; by an easy rescaling, we can handle any case in which we know an interval $[a,b]$ such that $a\\le x_t\\le b$.\n",
    "\n",
    "Therefore, a scaling function is needed to transform all input values between 0 and 1."
   ],
   "metadata": {}
  },
  {
   "cell_type": "code",
   "execution_count": null,
   "source": [
    "fig = plt.figure()\r\n",
    "ax1 = plt.subplot(311)\r\n",
    "\r\n",
    "color = 'tab:blue'\r\n",
    "ax1.set_xlabel('time (t)')\r\n",
    "ax1.set_ylabel('value')\r\n",
    "ax1.plot(data_stream_abrupt1)\r\n",
    "ax1.tick_params(axis='y', labelcolor=color)\r\n",
    "\r\n",
    "ax1 = plt.subplot(312)\r\n",
    "\r\n",
    "color = 'tab:green'\r\n",
    "ax1.set_xlabel('time (t)')\r\n",
    "ax1.set_ylabel('value')\r\n",
    "ax1.plot(data_stream_abrupt2, color=color)\r\n",
    "ax1.tick_params(axis='y', labelcolor=color)\r\n",
    "\r\n",
    "ax1 = plt.subplot(313)\r\n",
    "\r\n",
    "color = 'tab:purple'\r\n",
    "ax1.set_xlabel('time (t)')\r\n",
    "ax1.set_ylabel('value')\r\n",
    "ax1.plot(data_stream_gradual, color=color)\r\n",
    "ax1.tick_params(axis='y', labelcolor=color)\r\n",
    "\r\n",
    "fig.tight_layout()\r\n",
    "plt.show()"
   ],
   "outputs": [],
   "metadata": {}
  },
  {
   "cell_type": "code",
   "execution_count": null,
   "source": [
    "print(max(data_stream_abrupt1))\r\n",
    "print(max(data_stream_abrupt2))\r\n",
    "print(max(data_stream_gradual))"
   ],
   "outputs": [],
   "metadata": {}
  },
  {
   "cell_type": "code",
   "execution_count": null,
   "source": [
    "print(min(data_stream_abrupt1))\r\n",
    "print(min(data_stream_abrupt2))\r\n",
    "print(min(data_stream_gradual))"
   ],
   "outputs": [],
   "metadata": {}
  },
  {
   "cell_type": "code",
   "execution_count": null,
   "source": [
    "data_stream_gradual_hdrs = pd.read_csv(\"data/moa-single-gradual.txt\", sep=\",\", usecols=[6])\r\n",
    "data_stream_gradual_hdrs.columns"
   ],
   "outputs": [],
   "metadata": {}
  },
  {
   "cell_type": "markdown",
   "source": [
    "An analysis of the data characteristics shows that all values are between 45 and 79. Additionally looking at an input file with headers, the label on the column refers to a percent. Accordingly, all input values $x_t$ are divided by 100. Assuming $x_t \\in [0,100] \\implies x_t/100 = x_t' \\in [0,1]$."
   ],
   "metadata": {}
  },
  {
   "cell_type": "code",
   "execution_count": null,
   "source": [
    "# normalize input stream\n",
    "# need to normalize data to values between 0 and 1 according to\n",
    "# Bifet and Gavalda (2007. \"Learning from time-changing data with adaptive windowing.\")\n",
    "stream_norm_abrupt1 = np.interp(data_stream_abrupt1, (0, 100), (0,1) )\n",
    "stream_norm_abrupt2 = np.interp(data_stream_abrupt2, (0, 100), (0,1) )\n",
    "stream_norm_gradual = np.interp(data_stream_gradual, (0, 100), (0,1) )"
   ],
   "outputs": [],
   "metadata": {}
  },
  {
   "cell_type": "markdown",
   "source": [
    "### 5.1. Abrupt drift 1 - normed"
   ],
   "metadata": {}
  },
  {
   "cell_type": "code",
   "execution_count": null,
   "source": [
    "DELTA = 0.002\n",
    "\n",
    "adwin = ADWIN(DELTA)\n",
    "\n",
    "window_width = []\n",
    "vertical_lines = []\n",
    "width_vs_variance = []\n",
    "i = 0\n",
    "caption = \"\"\n",
    "\n",
    "result_nrm_abrupt1 = start_adwin(stream_norm_abrupt1, stream_name_abrupt1)"
   ],
   "outputs": [],
   "metadata": {}
  },
  {
   "cell_type": "markdown",
   "source": [
    "#### Compared to original (unscaled) input"
   ],
   "metadata": {}
  },
  {
   "cell_type": "code",
   "execution_count": null,
   "source": [
    "plot.plotoutput21(result_nrm_abrupt1, \"ABRUPT 1\\nScaled Values\", result_adwog_abrupt1, \"Original Values\")"
   ],
   "outputs": [],
   "metadata": {}
  },
  {
   "cell_type": "markdown",
   "source": [
    "### 5.2. Abrupt drift 2 - normed"
   ],
   "metadata": {}
  },
  {
   "cell_type": "code",
   "execution_count": null,
   "source": [
    "DELTA = 0.002\r\n",
    "\r\n",
    "adwin = ADWIN(DELTA)\r\n",
    "\r\n",
    "window_width = []\r\n",
    "vertical_lines = []\r\n",
    "width_vs_variance = []\r\n",
    "i = 0\r\n",
    "caption = \"\"\r\n",
    "\r\n",
    "result_nrm_abrupt2 = start_adwin(stream_norm_abrupt2, stream_name_abrupt2)"
   ],
   "outputs": [],
   "metadata": {}
  },
  {
   "cell_type": "markdown",
   "source": [
    "#### Compared to original (unscaled) input"
   ],
   "metadata": {}
  },
  {
   "cell_type": "code",
   "execution_count": null,
   "source": [
    "plot.plotoutput21(result_nrm_abrupt2, \"ABRUPT 2\\nScaled Values\", result_adwog_abrupt2, \"Original Values\")"
   ],
   "outputs": [],
   "metadata": {}
  },
  {
   "cell_type": "markdown",
   "source": [
    "### 5.3. Gradual drift - normed"
   ],
   "metadata": {}
  },
  {
   "cell_type": "code",
   "execution_count": null,
   "source": [
    "DELTA = 0.002\n",
    "\n",
    "adwin = ADWIN(DELTA)\n",
    "\n",
    "window_width = []\n",
    "vertical_lines = []\n",
    "width_vs_variance = []\n",
    "i = 0\n",
    "caption = \"\"\n",
    "\n",
    "result_nrm_gradual = start_adwin(stream_norm_gradual, stream_name_gradual)"
   ],
   "outputs": [],
   "metadata": {
    "scrolled": false
   }
  },
  {
   "cell_type": "markdown",
   "source": [
    "#### Compared to original (unscaled) input"
   ],
   "metadata": {}
  },
  {
   "cell_type": "code",
   "execution_count": null,
   "source": [
    "plot.plotoutput21(result_nrm_gradual, \"GRADUAL\\nScaled Values\", result_adwog_gradual, \"Original Values\")"
   ],
   "outputs": [],
   "metadata": {}
  },
  {
   "cell_type": "markdown",
   "source": [
    "### 5.4. Delta adjustments - normed"
   ],
   "metadata": {}
  },
  {
   "cell_type": "markdown",
   "source": [
    "#### $\\delta = 0.0001$"
   ],
   "metadata": {}
  },
  {
   "cell_type": "markdown",
   "source": [
    "##### Abrupt drift 1 "
   ],
   "metadata": {}
  },
  {
   "cell_type": "code",
   "execution_count": null,
   "source": [
    "DELTA = 0.0001\r\n",
    "\r\n",
    "adwin = ADWIN(DELTA)\r\n",
    "\r\n",
    "window_width = []\r\n",
    "vertical_lines = []\r\n",
    "width_vs_variance = []\r\n",
    "i = 0\r\n",
    "caption = \"\"\r\n",
    "\r\n",
    "result_nrm_abrupt1_d0001 = start_adwin(stream_norm_abrupt1, stream_name_abrupt1)"
   ],
   "outputs": [],
   "metadata": {}
  },
  {
   "cell_type": "markdown",
   "source": [
    "##### Abrupt drift 2"
   ],
   "metadata": {}
  },
  {
   "cell_type": "code",
   "execution_count": null,
   "source": [
    "DELTA = 0.0001\r\n",
    "\r\n",
    "adwin = ADWIN(DELTA)\r\n",
    "\r\n",
    "window_width = []\r\n",
    "vertical_lines = []\r\n",
    "width_vs_variance = []\r\n",
    "i = 0\r\n",
    "caption = \"\"\r\n",
    "\r\n",
    "result_nrm_abrupt2_d0001 = start_adwin(stream_norm_abrupt2, stream_name_abrupt2)"
   ],
   "outputs": [],
   "metadata": {}
  },
  {
   "cell_type": "markdown",
   "source": [
    "##### Gradual drift"
   ],
   "metadata": {}
  },
  {
   "cell_type": "code",
   "execution_count": null,
   "source": [
    "DELTA = 0.0001\n",
    "\n",
    "adwin = ADWIN(DELTA)\n",
    "\n",
    "window_width = []\n",
    "vertical_lines = []\n",
    "width_vs_variance = []\n",
    "i = 0\n",
    "caption = \"\"\n",
    "\n",
    "result_nrm_gradual_d0001 = start_adwin(stream_norm_gradual, stream_name_gradual)"
   ],
   "outputs": [],
   "metadata": {
    "scrolled": true
   }
  },
  {
   "cell_type": "markdown",
   "source": [
    "#### $\\delta = 0.01$"
   ],
   "metadata": {}
  },
  {
   "cell_type": "markdown",
   "source": [
    "##### Abrupt drift 1"
   ],
   "metadata": {}
  },
  {
   "cell_type": "code",
   "execution_count": null,
   "source": [
    "DELTA = 0.01\n",
    "\n",
    "adwin = ADWIN(DELTA)\n",
    "\n",
    "window_width = []\n",
    "vertical_lines = []\n",
    "width_vs_variance = []\n",
    "i = 0\n",
    "caption = \"\"\n",
    "\n",
    "result_nrm_abrupt1_d01 = start_adwin(stream_norm_abrupt1, stream_name_abrupt1)"
   ],
   "outputs": [],
   "metadata": {
    "scrolled": false
   }
  },
  {
   "cell_type": "markdown",
   "source": [
    "##### Abrupt drift 2"
   ],
   "metadata": {}
  },
  {
   "cell_type": "code",
   "execution_count": null,
   "source": [
    "DELTA = 0.01\n",
    "\n",
    "adwin = ADWIN(DELTA)\n",
    "\n",
    "window_width = []\n",
    "vertical_lines = []\n",
    "width_vs_variance = []\n",
    "i = 0\n",
    "caption = \"\"\n",
    "\n",
    "result_nrm_abrupt2_d01 = start_adwin(stream_norm_abrupt2, stream_name_abrupt2)"
   ],
   "outputs": [],
   "metadata": {}
  },
  {
   "cell_type": "markdown",
   "source": [
    "##### Gradual drift"
   ],
   "metadata": {}
  },
  {
   "cell_type": "code",
   "execution_count": null,
   "source": [
    "DELTA = 0.01\n",
    "\n",
    "adwin = ADWIN(DELTA)\n",
    "\n",
    "window_width = []\n",
    "vertical_lines = []\n",
    "width_vs_variance = []\n",
    "i = 0\n",
    "caption = \"\"\n",
    "\n",
    "result_nrm_gradual_d01 = start_adwin(stream_norm_gradual, stream_name_gradual)"
   ],
   "outputs": [],
   "metadata": {}
  },
  {
   "cell_type": "markdown",
   "source": [
    "#### $\\delta = 0.1$"
   ],
   "metadata": {}
  },
  {
   "cell_type": "markdown",
   "source": [
    "##### Abrupt drift 1"
   ],
   "metadata": {}
  },
  {
   "cell_type": "code",
   "execution_count": null,
   "source": [
    "DELTA = 0.1\n",
    "\n",
    "adwin = ADWIN(DELTA)\n",
    "\n",
    "window_width = []\n",
    "vertical_lines = []\n",
    "width_vs_variance = []\n",
    "i = 0\n",
    "caption = \"\"\n",
    "\n",
    "result_nrm_abrupt1_d1 = start_adwin(stream_norm_abrupt1, stream_name_abrupt1)"
   ],
   "outputs": [],
   "metadata": {
    "scrolled": true
   }
  },
  {
   "cell_type": "markdown",
   "source": [
    "##### Abrupt drift 2"
   ],
   "metadata": {}
  },
  {
   "cell_type": "code",
   "execution_count": null,
   "source": [
    "DELTA = 0.1\n",
    "\n",
    "adwin = ADWIN(DELTA)\n",
    "\n",
    "window_width = []\n",
    "vertical_lines = []\n",
    "width_vs_variance = []\n",
    "i = 0\n",
    "caption = \"\"\n",
    "\n",
    "result_nrm_abrupt2_d1 = start_adwin(stream_norm_abrupt2, stream_name_abrupt2)"
   ],
   "outputs": [],
   "metadata": {}
  },
  {
   "cell_type": "markdown",
   "source": [
    "##### Gradual drift"
   ],
   "metadata": {}
  },
  {
   "cell_type": "code",
   "execution_count": null,
   "source": [
    "DELTA = 0.1\n",
    "\n",
    "adwin = ADWIN(DELTA)\n",
    "\n",
    "window_width = []\n",
    "vertical_lines = []\n",
    "width_vs_variance = []\n",
    "i = 0\n",
    "caption = \"\"\n",
    "\n",
    "result_nrm_gradual_d1 = start_adwin(stream_norm_gradual, stream_name_gradual)"
   ],
   "outputs": [],
   "metadata": {}
  },
  {
   "cell_type": "markdown",
   "source": [
    "#### $\\delta = 1.0$"
   ],
   "metadata": {}
  },
  {
   "cell_type": "markdown",
   "source": [
    "##### Abrupt drift 1"
   ],
   "metadata": {}
  },
  {
   "cell_type": "code",
   "execution_count": null,
   "source": [
    "DELTA = 1.0\n",
    "\n",
    "adwin = ADWIN(DELTA)\n",
    "\n",
    "window_width = []\n",
    "vertical_lines = []\n",
    "width_vs_variance = []\n",
    "i = 0\n",
    "caption = \"\"\n",
    "\n",
    "result_nrm_abrupt1_d10 = start_adwin(stream_norm_abrupt1, stream_name_abrupt1)"
   ],
   "outputs": [],
   "metadata": {
    "scrolled": false
   }
  },
  {
   "cell_type": "markdown",
   "source": [
    "##### Abrupt drift 2"
   ],
   "metadata": {}
  },
  {
   "cell_type": "code",
   "execution_count": null,
   "source": [
    "DELTA = 1.0\n",
    "\n",
    "adwin = ADWIN(DELTA)\n",
    "\n",
    "window_width = []\n",
    "vertical_lines = []\n",
    "width_vs_variance = []\n",
    "i = 0\n",
    "caption = \"\"\n",
    "\n",
    "result_nrm_abrupt2_d10 = start_adwin(stream_norm_abrupt2, stream_name_abrupt2)"
   ],
   "outputs": [],
   "metadata": {}
  },
  {
   "cell_type": "markdown",
   "source": [
    "##### Gradual drift"
   ],
   "metadata": {}
  },
  {
   "cell_type": "code",
   "execution_count": null,
   "source": [
    "DELTA = 1.0\n",
    "\n",
    "adwin = ADWIN(DELTA)\n",
    "\n",
    "window_width = []\n",
    "vertical_lines = []\n",
    "width_vs_variance = []\n",
    "i = 0\n",
    "caption = \"\"\n",
    "\n",
    "result_nrm_gradual_d10 = start_adwin(stream_norm_gradual, stream_name_gradual)"
   ],
   "outputs": [],
   "metadata": {
    "scrolled": false
   }
  },
  {
   "cell_type": "markdown",
   "source": [
    "#### Summary of Delta Ranges for Scaled Input"
   ],
   "metadata": {}
  },
  {
   "cell_type": "code",
   "execution_count": null,
   "source": [
    "plot.plotoutput51(result_nrm_abrupt1_d0001, result_nrm_abrupt1, result_nrm_abrupt1_d01, result_nrm_abrupt1_d1, result_nrm_abrupt1_d10, \"ABRUPT 1 - SCALED [0,1]\")"
   ],
   "outputs": [],
   "metadata": {}
  },
  {
   "cell_type": "code",
   "execution_count": null,
   "source": [
    "plot.plotoutput51(result_nrm_abrupt2_d0001, result_nrm_abrupt2, result_nrm_abrupt2_d01, result_nrm_abrupt2_d1, result_nrm_abrupt2_d10, \"ABRUPT 2 - SCALED [0,1]\")"
   ],
   "outputs": [],
   "metadata": {}
  },
  {
   "cell_type": "code",
   "execution_count": null,
   "source": [
    "plot.plotoutput51(result_nrm_gradual_d0001, result_nrm_gradual, result_nrm_gradual_d01, result_nrm_gradual_d1, result_nrm_gradual_d10, \"GRADUAL - SCALED [0,1]\")"
   ],
   "outputs": [],
   "metadata": {}
  },
  {
   "cell_type": "markdown",
   "source": [
    "## 6. Additional library AdwinDo"
   ],
   "metadata": {}
  },
  {
   "cell_type": "markdown",
   "source": [
    "Provides interface to additional parameters of ADWIN algorithm"
   ],
   "metadata": {}
  },
  {
   "cell_type": "markdown",
   "source": [
    "### import libraries"
   ],
   "metadata": {}
  },
  {
   "cell_type": "code",
   "execution_count": null,
   "source": [
    "import adwinDo_c as awd\r\n",
    "from datetime import datetime, timedelta"
   ],
   "outputs": [],
   "metadata": {}
  },
  {
   "cell_type": "markdown",
   "source": [
    "### redefine helper function to add stream elements to ADWIN or AdwinDo and detect if drift occurred"
   ],
   "metadata": {}
  },
  {
   "cell_type": "code",
   "execution_count": null,
   "source": [
    "def start_adwin(stream, stream_name):\r\n",
    "    # statistics + methodology description\r\n",
    "    #print(\"W = vector of input in Window\")\r\n",
    "    #print(\"n = length of W\")\r\n",
    "    #print(\"m = 1 / (1/n0 + 1/n1) (harmonic mean of n0 and n1)\")\r\n",
    "    \r\n",
    "    # start timer to calculate throughput\r\n",
    "    timer_start = datetime.now()\r\n",
    "\r\n",
    "    # initialize variables\r\n",
    "    window_width = []\r\n",
    "    width_vs_variance = []\r\n",
    "    caption = \"\"\r\n",
    "\r\n",
    "    # normalize input stream\r\n",
    "    # need to normalize data to values between 0 and 1 according to\r\n",
    "    # Bifet and Gavalda (2007. \"Learning from time-changing data with adaptive windowing.\")\r\n",
    "    stream_norm = np.interp(stream, (0, 100), (0,1) )\r\n",
    "\r\n",
    "    # source file name for labeling output files\r\n",
    "    source_file =  stream_name.replace(\"data/\", \"\")\r\n",
    "\r\n",
    "    data_table = []\r\n",
    "\r\n",
    "    for idx in range(len(stream_norm)):\r\n",
    "        #update ADWIN window, calculate statistics, and determine if drift occurred\r\n",
    "        in_drift, in_warning = adwin.update(stream_norm[idx])\r\n",
    "        \r\n",
    "        window_width.append(adwin.width)    # plots window width\r\n",
    "        if in_drift:\r\n",
    "            prev_variance = 0.\r\n",
    "            adwn_variance = 0.\r\n",
    "            prev_mean = 0.\r\n",
    "            prev_df = pd.DataFrame(adwin.prev_window.data)\r\n",
    "            adwn_df = pd.DataFrame(adwin.ADWIN_window.data)\r\n",
    "            if len(prev_df) > 0:\r\n",
    "                prev_variance = np.var(prev_df['stream_value'])\r\n",
    "                prev_mean = np.mean(prev_df['stream_value'])\r\n",
    "            if len(adwn_df) > 0:\r\n",
    "                adwn_variance = np.var(adwn_df['stream_value'])\r\n",
    "            print(f\"  Drift detected in index {idx} for stream value {stream_norm[idx]},\\\r\n",
    "                  \\n\\twidth: {len(adwin.prev_window.data) + 1} => {int(adwin.width)},\\\r\n",
    "                  \\n\\tmean: {prev_mean} => {adwin.adwin_mean},\\\r\n",
    "                  \\n\\tvariance: {prev_variance} => {adwin.adwin_var}\\n\\n\")\r\n",
    "            \r\n",
    "            width_vs_variance.append((adwin.width, adwin.adwin_var, idx))\r\n",
    "            # print(f\"width vs variance {width_vs_variance} \\n\")\r\n",
    "\r\n",
    "\r\n",
    "    # write drift detection data to DataFrame then CSV\r\n",
    "    data_array = []\r\n",
    "    for dt_row in adwin.output_data_list:\r\n",
    "        data_array.append(dict(\r\n",
    "            Stream_Index                = dt_row.Stream_Index,\r\n",
    "            Stream_Value                = dt_row.Stream_Value,\r\n",
    "            Is_Drift_Detection_Point    = dt_row.Is_Drift_Detection_Point,\r\n",
    "            Drift_Count                 = dt_row.Drift_Count,\r\n",
    "            ADWIN_Window_Size           = dt_row.ADWIN_Window_Size,\r\n",
    "            ADWIN_Mean                  = dt_row.ADWIN_Mean,\r\n",
    "            ADWIN_Variance              = dt_row.ADWIN_Variance,\r\n",
    "            Rolling_Window_Size         = dt_row.Rolling_Window_Size,\r\n",
    "            Rolling_Mean                = dt_row.Rolling_Mean,\r\n",
    "            Rolling_Variance            = dt_row.Rolling_Variance,\r\n",
    "            delta_of_Mean               = dt_row.delta_Mean,\r\n",
    "            delta_of_Variance           = dt_row.delta_Variance\r\n",
    "        ))\r\n",
    "        \r\n",
    "    drift_df = pd.DataFrame(data_array)\r\n",
    "    drift_df.to_csv(f\".\\\\output\\\\DriftsDetected-{source_file}-AdWinDo-v_{version}.csv\")\r\n",
    "    drift_comp_df = pd.DataFrame(adwin.drift_comparisons)\r\n",
    "    drift_comp_df.to_csv(f\".\\\\output\\\\DriftComparisons-{source_file}-AdWinDo-v_{version}.csv\")\r\n",
    "    \r\n",
    "    timer_stop = datetime.now()\r\n",
    "    timer_span = (timer_stop - timer_start) // timedelta(milliseconds=1)\r\n",
    "    print(f\"timer start: {timer_start}\")\r\n",
    "    print(f\"timer stop: {timer_stop}\")\r\n",
    "    print(f\"time elapsed (ms): {timer_span}\")\r\n",
    "    print(f\"throughput: {1000 * len(drift_df) / timer_span} data points / second\\n\")\r\n",
    "\r\n",
    "    # plot stream and window\r\n",
    "    caption = f\"delta: {str(DELTA)}    epsilon: {str(EPSILON)}       rolling window size: {str(GAMMA)}    ADWIN grace period:{str(adwin.grace_period)}\\n\" \\\r\n",
    "            + f\"buckets: {str(adwin.max_buckets)}   clock: {str(adwin.clock)}    algo: {str(adwin.algo)}\" \r\n",
    "    plot.plotcomps(stream, window_width, adwin.novel_drifts, adwin.repeat_drifts, abs(drift_df['ADWIN_Mean'] - drift_df['Rolling_Mean']), abs(drift_df['ADWIN_Variance'] - drift_df['Rolling_Variance']) \\\r\n",
    "        , caption, stream_name, 'data stream', 'adwin window width', 'μ_ADWIN - μ_ScndWIN', 'σ2_ADWIN - σ2_ScndWIN')\r\n",
    "    \r\n",
    "    # return stats for building comparison plots\r\n",
    "    return {\r\n",
    "        \"stream\": stream,\r\n",
    "        \"window_width\": window_width,\r\n",
    "        \"vertical_lines\": vertical_lines,\r\n",
    "        \"caption\": caption,\r\n",
    "        \"stream_name\": stream_name\r\n",
    "    }"
   ],
   "outputs": [],
   "metadata": {}
  },
  {
   "cell_type": "markdown",
   "source": [
    "#### Configurable Parameters\n",
    "The AdwinDo module provides the ability to configure the following parameters of the ADWIN algorithm. The values set below are the original values from the River ADWIN module."
   ],
   "metadata": {}
  },
  {
   "cell_type": "code",
   "execution_count": null,
   "source": [
    "# \\delta is ADWIN algorithm threshhold; must be between 0 and 1\n",
    "DELTA = 0.002\n",
    "# (grace period + 1) is minimum width of ADWIN window at which a drift analysis is run\n",
    "GRACE = 10\n",
    "# clock is the period (1/frequency) in number of data entry points for checking for drift\n",
    "# higher means it will check less often\n",
    "# e.g. if clock = 60, it only checks for a drift on every 60th data point\n",
    "CLOCK = 32\n",
    "# max buckets - more buckets lead to smoother approximation and more accurate drift detection at the\n",
    "#   expense of additional computation\n",
    "MAX_BUCKETS = 5\n",
    "# min window length\n",
    "MIN_WINDOW_LENGTH = 5\n",
    "# the seed is the starting point in the \"random\" number generator table, setting the seed ensures repeatable \"random\" numbers for running experiments - cET\n",
    "SEED = np.random.seed(42)"
   ],
   "outputs": [],
   "metadata": {}
  },
  {
   "cell_type": "code",
   "execution_count": null,
   "source": [
    "# set version for graph output - used by updated helper function\n",
    "version = \"0.9.9\"\n",
    "\n",
    "# set N/A for unused parameters\n",
    "EPSILON = \"N/A\"\n",
    "GAMMA = \"N/A\"\n",
    "PHI = \"N/A\"\n",
    "\n",
    "# set drift duplicate probability parameters to values that turn off feature\n",
    "#   drift duplicate filter described later in this notebook\n",
    "\n",
    "# TURN OFF DRIFT DUPLICATE FILTER\n",
    "ADWINDO_p = 1.0\n",
    "ADWINDO_q = 0.0000000001"
   ],
   "outputs": [],
   "metadata": {}
  },
  {
   "cell_type": "markdown",
   "source": [
    "Create adwinDo object to track streaming data and raise alerts when a drift in the underlying population distribution is detected"
   ],
   "metadata": {}
  },
  {
   "cell_type": "code",
   "execution_count": null,
   "source": [
    "adwin = awd.ADWINDO(delta = DELTA, clock = CLOCK, grace = GRACE, max_buckets = MAX_BUCKETS, min_window_length = MIN_WINDOW_LENGTH, algo='classic', adwindo_p = ADWINDO_p, adwindo_q = ADWINDO_q)"
   ],
   "outputs": [],
   "metadata": {}
  },
  {
   "cell_type": "markdown",
   "source": [
    "## 6.1. Rerun Analysis with Original Data\n",
    "Rerun with original values; scaling is now done inside the helper function."
   ],
   "metadata": {}
  },
  {
   "cell_type": "markdown",
   "source": [
    "### Abrupt 1"
   ],
   "metadata": {}
  },
  {
   "cell_type": "code",
   "execution_count": null,
   "source": [
    "# reset ADWIN\n",
    "adwin = awd.ADWINDO(delta = DELTA, clock = CLOCK, grace = GRACE, max_buckets = MAX_BUCKETS, min_window_length = MIN_WINDOW_LENGTH, algo='classic', adwindo_p = ADWINDO_p, adwindo_q = ADWINDO_q)\n",
    "\n",
    "result_awd_abrupt1 = start_adwin(data_stream_abrupt1, stream_name_abrupt1)"
   ],
   "outputs": [],
   "metadata": {
    "scrolled": true
   }
  },
  {
   "cell_type": "markdown",
   "source": [
    "### Abrupt 2"
   ],
   "metadata": {}
  },
  {
   "cell_type": "code",
   "execution_count": null,
   "source": [
    "#reset ADWIN\n",
    "adwin = awd.ADWINDO(delta = DELTA, clock = CLOCK, grace = GRACE, max_buckets = MAX_BUCKETS, min_window_length = MIN_WINDOW_LENGTH, algo='classic', adwindo_p = ADWINDO_p, adwindo_q = ADWINDO_q)\n",
    "\n",
    "#run\n",
    "result_awd_abrupt2 = start_adwin(data_stream_abrupt2, stream_name_abrupt2)"
   ],
   "outputs": [],
   "metadata": {}
  },
  {
   "cell_type": "markdown",
   "source": [
    "### Gradual Drift"
   ],
   "metadata": {}
  },
  {
   "cell_type": "code",
   "execution_count": null,
   "source": [
    "#reset ADWIN\n",
    "adwin = awd.ADWINDO(delta = DELTA, clock = CLOCK, grace = GRACE, max_buckets = MAX_BUCKETS, min_window_length = MIN_WINDOW_LENGTH, algo='classic', adwindo_p = ADWINDO_p, adwindo_q = ADWINDO_q)\n",
    "\n",
    "#run\n",
    "result_awd_gradual = start_adwin(data_stream_gradual, stream_name_gradual)"
   ],
   "outputs": [],
   "metadata": {}
  },
  {
   "cell_type": "markdown",
   "source": [
    "## 6.2. Rerun Analysis with Higher-Resolution Clock ($T=10$)\n",
    "Lower CLOCK parameter and rerun analysis.\n",
    "At CLOCK = 10, the algorithm will check for a drift every 10 input points, as long as the ADWIN window width is greater than GRACE."
   ],
   "metadata": {}
  },
  {
   "cell_type": "code",
   "execution_count": null,
   "source": [
    "# \\delta is ADWIN algorithm threshhold; must be between 0 and 1\n",
    "DELTA = 0.002\n",
    "# (grace period + 1) is minimum width of ADWIN window at which a drift analysis is run\n",
    "GRACE = 10\n",
    "# clock is the period (1/frequency) in number of data entry points for checking for drift\n",
    "# higher means it will check less often\n",
    "# e.g. if clock = 60, it only checks for a drift on every 60th data point\n",
    "CLOCK = 10\n",
    "# max buckets - more buckets lead to smoother approximation and more accurate drift detection with the\n",
    "#   expense of additional computation\n",
    "MAX_BUCKETS = 5\n",
    "# min window length\n",
    "MIN_WINDOW_LENGTH = 5\n",
    "# the seed is the starting point in the \"random\" number generator table, setting the seed ensures repeatable \"random\" numbers for running experiments - cET\n",
    "SEED = np.random.seed(42)"
   ],
   "outputs": [],
   "metadata": {}
  },
  {
   "cell_type": "markdown",
   "source": [
    "### Abrupt 1"
   ],
   "metadata": {}
  },
  {
   "cell_type": "code",
   "execution_count": null,
   "source": [
    "# reset ADWIN\n",
    "adwin = awd.ADWINDO(delta = DELTA, clock = CLOCK, grace = GRACE, max_buckets = MAX_BUCKETS, min_window_length = MIN_WINDOW_LENGTH, algo = 'classic', adwindo_p = ADWINDO_p, adwindo_q = ADWINDO_q)\n",
    "\n",
    "result_abrupt1_t10  = start_adwin(data_stream_abrupt1, stream_name_abrupt1)"
   ],
   "outputs": [],
   "metadata": {
    "scrolled": true
   }
  },
  {
   "cell_type": "markdown",
   "source": [
    "### Abrupt 2"
   ],
   "metadata": {}
  },
  {
   "cell_type": "code",
   "execution_count": null,
   "source": [
    "#reset ADWIN\r\n",
    "adwin = awd.ADWINDO(delta = DELTA, clock = CLOCK, grace = GRACE, max_buckets = MAX_BUCKETS, min_window_length = MIN_WINDOW_LENGTH, algo = 'classic', adwindo_p = ADWINDO_p, adwindo_q = ADWINDO_q)\r\n",
    "\r\n",
    "#run\r\n",
    "result_abrupt2_t10  = start_adwin(data_stream_abrupt2, stream_name_abrupt2)"
   ],
   "outputs": [],
   "metadata": {}
  },
  {
   "cell_type": "markdown",
   "source": [
    "### Gradual Drift"
   ],
   "metadata": {}
  },
  {
   "cell_type": "code",
   "execution_count": null,
   "source": [
    "#reset ADWIN\r\n",
    "adwin = awd.ADWINDO(delta = DELTA, clock = CLOCK, grace = GRACE, max_buckets = MAX_BUCKETS, min_window_length = MIN_WINDOW_LENGTH, algo = 'classic', adwindo_p = ADWINDO_p, adwindo_q = ADWINDO_q)\r\n",
    "\r\n",
    "#run\r\n",
    "result_gradual_t10  = start_adwin(data_stream_gradual, stream_name_gradual)"
   ],
   "outputs": [],
   "metadata": {}
  },
  {
   "cell_type": "markdown",
   "source": [
    "## 6.3. Rerun Analysis with Higher-Resolution Clock ($T=1$)\n",
    "Lower CLOCK parameter and rerun analysis. At CLOCK = 1, the algorithm will check for a drift every 1 input points, as long as the ADWIN window width is greater than GRACE."
   ],
   "metadata": {}
  },
  {
   "cell_type": "code",
   "execution_count": null,
   "source": [
    "# \\delta is ADWIN algorithm threshhold; must be between 0 and 1\r\n",
    "DELTA = 0.002\r\n",
    "# (grace period + 1) is minimum width of ADWIN window at which a drift analysis is run\r\n",
    "GRACE = 10\r\n",
    "# clock is the period (1/frequency) in number of data entry points for checking for drift\r\n",
    "# higher means it will check less often\r\n",
    "# e.g. if clock = 60, it only checks for a drift on every 60th data point\r\n",
    "CLOCK = 1\r\n",
    "# max buckets - more buckets lead to smoother approximation and more accurate drift detection with the\r\n",
    "#   expense of additional computation\r\n",
    "MAX_BUCKETS = 5\r\n",
    "# min window length\r\n",
    "MIN_WINDOW_LENGTH = 5\r\n",
    "# the seed is the starting point in the \"random\" number generator table, setting the seed ensures repeatable \"random\" numbers for running experiments - cET\r\n",
    "SEED = np.random.seed(42)"
   ],
   "outputs": [],
   "metadata": {}
  },
  {
   "cell_type": "markdown",
   "source": [
    "### Abrupt 1"
   ],
   "metadata": {}
  },
  {
   "cell_type": "code",
   "execution_count": null,
   "source": [
    "# reset ADWIN\r\n",
    "adwin = awd.ADWINDO(delta = DELTA, clock = CLOCK, grace = GRACE, max_buckets = MAX_BUCKETS, min_window_length = MIN_WINDOW_LENGTH, algo = 'classic', adwindo_p = ADWINDO_p, adwindo_q = ADWINDO_q)\r\n",
    "\r\n",
    "result_abrupt1_t1 = start_adwin(data_stream_abrupt1, stream_name_abrupt1)"
   ],
   "outputs": [],
   "metadata": {
    "scrolled": true
   }
  },
  {
   "cell_type": "markdown",
   "source": [
    "### Abrupt 2"
   ],
   "metadata": {}
  },
  {
   "cell_type": "code",
   "execution_count": null,
   "source": [
    "#reset ADWIN\r\n",
    "adwin = awd.ADWINDO(delta = DELTA, clock = CLOCK, grace = GRACE, max_buckets = MAX_BUCKETS, min_window_length = MIN_WINDOW_LENGTH, algo = 'classic', adwindo_p = ADWINDO_p, adwindo_q = ADWINDO_q)\r\n",
    "\r\n",
    "#run\r\n",
    "result_abrupt2_t1  = start_adwin(data_stream_abrupt2, stream_name_abrupt2)"
   ],
   "outputs": [],
   "metadata": {}
  },
  {
   "cell_type": "markdown",
   "source": [
    "### Gradual Drift"
   ],
   "metadata": {}
  },
  {
   "cell_type": "code",
   "execution_count": null,
   "source": [
    "#reset ADWIN\r\n",
    "adwin = awd.ADWINDO(delta = DELTA, clock = CLOCK, grace = GRACE, max_buckets = MAX_BUCKETS, min_window_length = MIN_WINDOW_LENGTH, algo = 'classic', adwindo_p = ADWINDO_p, adwindo_q = ADWINDO_q)\r\n",
    "\r\n",
    "#run\r\n",
    "start_adwin(data_stream_gradual, stream_name_gradual)"
   ],
   "outputs": [],
   "metadata": {}
  },
  {
   "cell_type": "markdown",
   "source": [
    "## 6.4. Rerun Analysis with Higher-Resolution Minimum Width ($n_{\\mathrm{min}}= 1$)\n",
    "Lower MIN_WINDOW_LENGTH parameter and rerun analysis. At MIN_WINDOW_LENGTH = 1, the algorithm will check for a drift by comparing two sub-windows where each sub-window has at least 1 element in it. MIN_WINDOW_LENGTH is set to 1 to allow all possible cuts of ADWIN window. This increases computation expense."
   ],
   "metadata": {}
  },
  {
   "cell_type": "code",
   "execution_count": null,
   "source": [
    "# \\delta is ADWIN algorithm threshhold; must be between 0 and 1\r\n",
    "DELTA = 0.002\r\n",
    "# (grace period + 1) is minimum width of ADWIN window at which a drift analysis is run\r\n",
    "GRACE = 10\r\n",
    "# clock is the period (1/frequency) in number of data entry points for checking for drift\r\n",
    "# higher means it will check less often\r\n",
    "# e.g. if clock = 60, it only checks for a drift on every 60th data point\r\n",
    "CLOCK = 1\r\n",
    "# max buckets - more buckets lead to smoother approximation and more accurate drift detection with the\r\n",
    "#   expense of additional computation\r\n",
    "MAX_BUCKETS = 5\r\n",
    "# min window length\r\n",
    "MIN_WINDOW_LENGTH = 1\r\n",
    "# the seed is the starting point in the \"random\" number generator table, setting the seed ensures repeatable \"random\" numbers for running experiments - cET\r\n",
    "SEED = np.random.seed(42)"
   ],
   "outputs": [],
   "metadata": {}
  },
  {
   "cell_type": "markdown",
   "source": [
    "### Abrupt 1"
   ],
   "metadata": {}
  },
  {
   "cell_type": "code",
   "execution_count": null,
   "source": [
    "# reset ADWIN\n",
    "adwin = awd.ADWINDO(delta = DELTA, clock = CLOCK, grace = GRACE, max_buckets = MAX_BUCKETS, min_window_length = MIN_WINDOW_LENGTH, algo = 'classic', adwindo_p = ADWINDO_p, adwindo_q = ADWINDO_q)\n",
    "\n",
    "result_abrupt1_n1  = start_adwin(data_stream_abrupt1, stream_name_abrupt1)"
   ],
   "outputs": [],
   "metadata": {
    "scrolled": true
   }
  },
  {
   "cell_type": "markdown",
   "source": [
    "### Abrupt 2"
   ],
   "metadata": {}
  },
  {
   "cell_type": "code",
   "execution_count": null,
   "source": [
    "#reset ADWIN\n",
    "adwin = awd.ADWINDO(delta = DELTA, clock = CLOCK, grace = GRACE, max_buckets = MAX_BUCKETS, min_window_length = MIN_WINDOW_LENGTH, algo = 'classic', adwindo_p = ADWINDO_p, adwindo_q = ADWINDO_q)\n",
    "\n",
    "#run\n",
    "result_abrupt2_n1  = start_adwin(data_stream_abrupt2, stream_name_abrupt2)"
   ],
   "outputs": [],
   "metadata": {}
  },
  {
   "cell_type": "markdown",
   "source": [
    "### Gradual Drift"
   ],
   "metadata": {}
  },
  {
   "cell_type": "code",
   "execution_count": null,
   "source": [
    "#reset ADWIN\n",
    "adwin = awd.ADWINDO(delta = DELTA, clock = CLOCK, grace = GRACE, max_buckets = MAX_BUCKETS, min_window_length = MIN_WINDOW_LENGTH, algo = 'classic', adwindo_p = ADWINDO_p, adwindo_q = ADWINDO_q)\n",
    "\n",
    "#run\n",
    "result_gradual_n1  = start_adwin(data_stream_gradual, stream_name_gradual)"
   ],
   "outputs": [],
   "metadata": {}
  },
  {
   "cell_type": "markdown",
   "source": [
    "# 6.5. Rerun Analysis with Higher-Resolution Grace Period\n",
    "Lower GRACE parameter and rerun analysis. At GRACE = 1 (and CLOCK = 1), the algorithm will check for a drift every 1 (CLOCK) input points, as long as the ADWIN window width is greater than 1 (GRACE). GRACE = 1 is the minimum value since the ADWIN window must be split into two buckets for statistical comparison. MIN_WINDOW_LENGTH is set to 1 to allow all possible cuts of ADWIN window."
   ],
   "metadata": {}
  },
  {
   "cell_type": "code",
   "execution_count": null,
   "source": [
    "# \\delta is ADWIN algorithm threshhold; must be between 0 and 1\n",
    "DELTA = 0.002\n",
    "# (grace period + 1) is minimum width of ADWIN window at which a drift analysis is run\n",
    "GRACE = 1\n",
    "# clock is the period (1/frequency) in number of data entry points for checking for drift\n",
    "# higher means it will check less often\n",
    "# e.g. if clock = 60, it only checks for a drift on every 60th data point\n",
    "CLOCK = 1\n",
    "# max buckets - more buckets lead to smoother approximation and more accurate drift detection with the\n",
    "#   expense of additional computation\n",
    "MAX_BUCKETS = 5\n",
    "# min window length\n",
    "MIN_WINDOW_LENGTH = 1\n",
    "# the seed is the starting point in the \"random\" number generator table, setting the seed ensures repeatable \"random\" numbers for running experiments - cET\n",
    "SEED = np.random.seed(42)"
   ],
   "outputs": [],
   "metadata": {}
  },
  {
   "cell_type": "markdown",
   "source": [
    "### Abrupt 1"
   ],
   "metadata": {}
  },
  {
   "cell_type": "code",
   "execution_count": null,
   "source": [
    "# reset ADWIN\n",
    "adwin = awd.ADWINDO(delta = DELTA, clock = CLOCK, grace = GRACE, max_buckets = MAX_BUCKETS, min_window_length = MIN_WINDOW_LENGTH, algo = 'classic', adwindo_p = ADWINDO_p, adwindo_q = ADWINDO_q)\n",
    "\n",
    "result_abrupt1_g1  = start_adwin(data_stream_abrupt1, stream_name_abrupt1)"
   ],
   "outputs": [],
   "metadata": {
    "scrolled": true
   }
  },
  {
   "cell_type": "markdown",
   "source": [
    "### Abrupt 2"
   ],
   "metadata": {}
  },
  {
   "cell_type": "code",
   "execution_count": null,
   "source": [
    "#reset ADWIN\n",
    "adwin = awd.ADWINDO(delta = DELTA, clock = CLOCK, grace = GRACE, max_buckets = MAX_BUCKETS, min_window_length = MIN_WINDOW_LENGTH, algo = 'classic', adwindo_p = ADWINDO_p, adwindo_q = ADWINDO_q)\n",
    "\n",
    "#run\n",
    "result_abrupt2_g1  = start_adwin(data_stream_abrupt2, stream_name_abrupt2)"
   ],
   "outputs": [],
   "metadata": {}
  },
  {
   "cell_type": "markdown",
   "source": [
    "### Gradual Drift"
   ],
   "metadata": {}
  },
  {
   "cell_type": "code",
   "execution_count": null,
   "source": [
    "#reset ADWIN\n",
    "adwin = awd.ADWINDO(delta = DELTA, clock = CLOCK, grace = GRACE, max_buckets = MAX_BUCKETS, min_window_length = MIN_WINDOW_LENGTH, algo = 'classic', adwindo_p = ADWINDO_p, adwindo_q = ADWINDO_q)\n",
    "\n",
    "#run\n",
    "result_gradual_g1  = start_adwin(data_stream_gradual, stream_name_gradual)"
   ],
   "outputs": [],
   "metadata": {}
  },
  {
   "cell_type": "markdown",
   "source": [
    "## 6.6. Rerun Analysis with Higher-Resolution Maximum Buckets ($buckets_{\\mathrm{max}}=50$)\n",
    "Raise MAX_BUCKETS parameter and rerun analysis. At MAX_BUCKETS = 50, the algorithm will check for a drift by dividing the ADWIN window into up to 50 partitions. This increases the probability of correctly identifying a drift."
   ],
   "metadata": {}
  },
  {
   "cell_type": "code",
   "execution_count": null,
   "source": [
    "# \\delta is ADWIN algorithm threshhold; must be between 0 and 1\n",
    "DELTA = 0.002\n",
    "# (grace period + 1) is minimum width of ADWIN window at which a drift analysis is run\n",
    "GRACE = 1\n",
    "# clock is the period (1/frequency) in number of data entry points for checking for drift\n",
    "# higher means it will check less often\n",
    "# e.g. if clock = 60, it only checks for a drift on every 60th data point\n",
    "CLOCK = 1\n",
    "# max buckets - more buckets lead to smoother approximation and more accurate drift detection with the\n",
    "#   expense of additional computation\n",
    "MAX_BUCKETS = 50\n",
    "# min window length\n",
    "MIN_WINDOW_LENGTH = 1\n",
    "# the seed is the starting point in the \"random\" number generator table, setting the seed ensures repeatable \"random\" numbers for running experiments - cET\n",
    "SEED = np.random.seed(42)"
   ],
   "outputs": [],
   "metadata": {}
  },
  {
   "cell_type": "markdown",
   "source": [
    "### Abrupt 1"
   ],
   "metadata": {}
  },
  {
   "cell_type": "code",
   "execution_count": null,
   "source": [
    "# reset ADWIN\n",
    "adwin = awd.ADWINDO(delta = DELTA, clock = CLOCK, grace = GRACE, max_buckets = MAX_BUCKETS, min_window_length = MIN_WINDOW_LENGTH, algo = 'classic', adwindo_p = ADWINDO_p, adwindo_q = ADWINDO_q)\n",
    "\n",
    "result_abrupt1_b50 = start_adwin(data_stream_abrupt1, stream_name_abrupt1)"
   ],
   "outputs": [],
   "metadata": {
    "scrolled": true
   }
  },
  {
   "cell_type": "markdown",
   "source": [
    "### Abrupt 2"
   ],
   "metadata": {}
  },
  {
   "cell_type": "code",
   "execution_count": null,
   "source": [
    "#reset ADWIN\n",
    "adwin = awd.ADWINDO(delta = DELTA, clock = CLOCK, grace = GRACE, max_buckets = MAX_BUCKETS, min_window_length = MIN_WINDOW_LENGTH, algo = 'classic', adwindo_p = ADWINDO_p, adwindo_q = ADWINDO_q)\n",
    "\n",
    "#run\n",
    "result_abrupt2_b50 = start_adwin(data_stream_abrupt2, stream_name_abrupt2)"
   ],
   "outputs": [],
   "metadata": {}
  },
  {
   "cell_type": "markdown",
   "source": [
    "### Gradual Drift"
   ],
   "metadata": {}
  },
  {
   "cell_type": "code",
   "execution_count": null,
   "source": [
    "#reset ADWIN\r\n",
    "adwin = awd.ADWINDO(delta = DELTA, clock = CLOCK, grace = GRACE, max_buckets = MAX_BUCKETS, min_window_length = MIN_WINDOW_LENGTH, algo = 'classic', adwindo_p = ADWINDO_p, adwindo_q = ADWINDO_q)\r\n",
    "\r\n",
    "#run\r\n",
    "result_gradual_b50 = start_adwin(data_stream_gradual, stream_name_gradual)"
   ],
   "outputs": [],
   "metadata": {}
  },
  {
   "cell_type": "markdown",
   "source": [
    "## 6.7. Rerun Analysis with Higher-Resolution Maximum Buckets ($buckets_{\\mathrm{max}}=100$)\n",
    "Raise MAX_BUCKETS parameter and rerun analysis. At MAX_BUCKETS = 100, the algorithm will check for a drift by dividing the ADWIN window into up to 100 partitions. This increases the probability of correctly identifying a drift, but significantly increases the time and memory computation cost."
   ],
   "metadata": {}
  },
  {
   "cell_type": "code",
   "execution_count": null,
   "source": [
    "# \\delta is ADWIN algorithm threshhold; must be between 0 and 1\r\n",
    "DELTA = 0.002\r\n",
    "# (grace period + 1) is minimum width of ADWIN window at which a drift analysis is run\r\n",
    "GRACE = 1\r\n",
    "# clock is the period (1/frequency) in number of data entry points for checking for drift\r\n",
    "# higher means it will check less often\r\n",
    "# e.g. if clock = 60, it only checks for a drift on every 60th data point\r\n",
    "CLOCK = 1\r\n",
    "# max buckets - more buckets lead to smoother approximation and more accurate drift detection with the\r\n",
    "#   expense of additional computation\r\n",
    "MAX_BUCKETS = 100\r\n",
    "# min window length\r\n",
    "MIN_WINDOW_LENGTH = 1\r\n",
    "# the seed is the starting point in the \"random\" number generator table, setting the seed ensures repeatable \"random\" numbers for running experiments - cET\r\n",
    "SEED = np.random.seed(42)"
   ],
   "outputs": [],
   "metadata": {}
  },
  {
   "cell_type": "markdown",
   "source": [
    "### Abrupt 1"
   ],
   "metadata": {}
  },
  {
   "cell_type": "code",
   "execution_count": null,
   "source": [
    "# reset ADWIN\r\n",
    "adwin = awd.ADWINDO(delta = DELTA, clock = CLOCK, grace = GRACE, max_buckets = MAX_BUCKETS, min_window_length = MIN_WINDOW_LENGTH, algo = 'classic', adwindo_p = ADWINDO_p, adwindo_q = ADWINDO_q)\r\n",
    "\r\n",
    "result_abrupt1_b100 = start_adwin(data_stream_abrupt1, stream_name_abrupt1)"
   ],
   "outputs": [],
   "metadata": {
    "scrolled": true
   }
  },
  {
   "cell_type": "markdown",
   "source": [
    "### Abrupt 2"
   ],
   "metadata": {}
  },
  {
   "cell_type": "code",
   "execution_count": null,
   "source": [
    "#reset ADWIN\r\n",
    "adwin = awd.ADWINDO(delta = DELTA, clock = CLOCK, grace = GRACE, max_buckets = MAX_BUCKETS, min_window_length = MIN_WINDOW_LENGTH, algo = 'classic', adwindo_p = ADWINDO_p, adwindo_q = ADWINDO_q)\r\n",
    "\r\n",
    "#run\r\n",
    "result_abrupt2_b200 = start_adwin(data_stream_abrupt2, stream_name_abrupt2)"
   ],
   "outputs": [],
   "metadata": {}
  },
  {
   "cell_type": "markdown",
   "source": [
    "### Gradual Drift"
   ],
   "metadata": {}
  },
  {
   "cell_type": "code",
   "execution_count": null,
   "source": [
    "#reset ADWIN\r\n",
    "adwin = awd.ADWINDO(delta = DELTA, clock = CLOCK, grace = GRACE, max_buckets = MAX_BUCKETS, min_window_length = MIN_WINDOW_LENGTH, algo = 'classic', adwindo_p = ADWINDO_p, adwindo_q = ADWINDO_q)\r\n",
    "\r\n",
    "#run\r\n",
    "result_gradual_b100 = start_adwin(data_stream_gradual, stream_name_gradual)"
   ],
   "outputs": [],
   "metadata": {
    "scrolled": true
   }
  },
  {
   "cell_type": "markdown",
   "source": [
    "## 6.8. Rerun Analysis with Higher-Resolution Maximum Buckets ($buckets_{\\mathrm{max}}=250$)\n",
    "Raise MAX_BUCKETS parameter and rerun analysis. At MAX_BUCKETS = 250, the algorithm will check for a drift by dividing the ADWIN window into up to 250 partitions. This increases the probability of identifying a drift."
   ],
   "metadata": {}
  },
  {
   "cell_type": "code",
   "execution_count": null,
   "source": [
    "# \\delta is ADWIN algorithm threshhold; must be between 0 and 1\n",
    "DELTA = 0.002\n",
    "# (grace period - 1) is minimum width of ADWIN window at which a drift analysis is run\n",
    "GRACE = 1\n",
    "# clock is the period (1/frequency) in number of data entry points for checking for drift\n",
    "# higher means it will check less often\n",
    "# e.g. if clock = 60, it only checks for a drift on every 60th data point\n",
    "CLOCK = 1\n",
    "# max buckets - more buckets lead to smoother approximation and more accurate drift detection with the\n",
    "#   expense of additional computation\n",
    "MAX_BUCKETS = 250\n",
    "# min window length\n",
    "MIN_WINDOW_LENGTH = 1\n",
    "# the seed is the starting point in the \"random\" number generator table, setting the seed ensures repeatable \"random\" numbers for running experiments - cET\n",
    "SEED = np.random.seed(42)"
   ],
   "outputs": [],
   "metadata": {}
  },
  {
   "cell_type": "markdown",
   "source": [
    "### Abrupt 1"
   ],
   "metadata": {}
  },
  {
   "cell_type": "code",
   "execution_count": null,
   "source": [
    "# reset ADWIN\n",
    "adwin = awd.ADWINDO(delta = DELTA, clock = CLOCK, grace = GRACE, max_buckets = MAX_BUCKETS, min_window_length = MIN_WINDOW_LENGTH, algo = 'classic', adwindo_p = ADWINDO_p, adwindo_q = ADWINDO_q)\n",
    "\n",
    "# run\n",
    "result_abrupt1_b250  = start_adwin(data_stream_abrupt1, stream_name_abrupt1)"
   ],
   "outputs": [],
   "metadata": {
    "scrolled": true
   }
  },
  {
   "cell_type": "markdown",
   "source": [
    "### Abrupt 2"
   ],
   "metadata": {}
  },
  {
   "cell_type": "code",
   "execution_count": null,
   "source": [
    "# reset ADWIN\n",
    "adwin = awd.ADWINDO(delta = DELTA, clock = CLOCK, grace = GRACE, max_buckets = MAX_BUCKETS, min_window_length = MIN_WINDOW_LENGTH, algo = 'classic', adwindo_p = ADWINDO_p, adwindo_q = ADWINDO_q)\n",
    "\n",
    "# run\n",
    "result_abrupt2_b250 = start_adwin(data_stream_abrupt2, stream_name_abrupt2)"
   ],
   "outputs": [],
   "metadata": {}
  },
  {
   "cell_type": "markdown",
   "source": [
    "### Gradual Drift"
   ],
   "metadata": {}
  },
  {
   "cell_type": "code",
   "execution_count": null,
   "source": [
    "# reset ADWIN\n",
    "adwin = awd.ADWINDO(delta = DELTA, clock = CLOCK, grace = GRACE, max_buckets = MAX_BUCKETS, min_window_length = MIN_WINDOW_LENGTH, algo = 'classic', adwindo_p = ADWINDO_p, adwindo_q = ADWINDO_q)\n",
    "\n",
    "# run\n",
    "result_gradual_b250 = start_adwin(data_stream_gradual, stream_name_gradual)"
   ],
   "outputs": [],
   "metadata": {}
  },
  {
   "cell_type": "markdown",
   "source": [
    "## 6.9. Rerun Analysis with Higher-Resolution Maximum Buckets ($buckets_{\\mathrm{max}}=500$)\n",
    "Raise MAX_BUCKETS parameter and rerun analysis. At MAX_BUCKETS = 500, the algorithm will check for a drift by dividing the ADWIN window into up to 500 partitions. This increases the probability of identifying a drift."
   ],
   "metadata": {}
  },
  {
   "cell_type": "code",
   "execution_count": null,
   "source": [
    "# \\delta is ADWIN algorithm threshhold; must be between 0 and 1\n",
    "DELTA = 0.002\n",
    "# (grace period + 1) is minimum width of ADWIN window at which a drift analysis is run\n",
    "GRACE = 1\n",
    "# clock is the period (1/frequency) in number of data entry points for checking for drift\n",
    "# higher means it will check less often\n",
    "# e.g. if clock = 60, it only checks for a drift on every 60th data point\n",
    "CLOCK = 1\n",
    "# max buckets - more buckets lead to smoother approximation and more accurate drift detection with the\n",
    "#   expense of additional computation\n",
    "MAX_BUCKETS = 500\n",
    "# min window length\n",
    "MIN_WINDOW_LENGTH = 1\n",
    "# the seed is the starting point in the \"random\" number generator table, setting the seed ensures repeatable \"random\" numbers for running experiments - cET\n",
    "SEED = np.random.seed(42)"
   ],
   "outputs": [],
   "metadata": {}
  },
  {
   "cell_type": "markdown",
   "source": [
    "### Abrupt 1"
   ],
   "metadata": {}
  },
  {
   "cell_type": "code",
   "execution_count": null,
   "source": [
    "# reset ADWIN\r\n",
    "adwin = awd.ADWINDO(delta = DELTA, clock = CLOCK, grace = GRACE, max_buckets = MAX_BUCKETS, min_window_length = MIN_WINDOW_LENGTH, algo = 'classic', adwindo_p = ADWINDO_p, adwindo_q = ADWINDO_q)\r\n",
    "\r\n",
    "# run\r\n",
    "result_abrupt1_b500 = start_adwin(data_stream_abrupt1, stream_name_abrupt1)"
   ],
   "outputs": [],
   "metadata": {
    "scrolled": true
   }
  },
  {
   "cell_type": "markdown",
   "source": [
    "### Abrupt 2"
   ],
   "metadata": {}
  },
  {
   "cell_type": "code",
   "execution_count": null,
   "source": [
    "# reset ADWIN\r\n",
    "adwin = awd.ADWINDO(delta = DELTA, clock = CLOCK, grace = GRACE, max_buckets = MAX_BUCKETS, min_window_length = MIN_WINDOW_LENGTH, algo = 'classic', adwindo_p = ADWINDO_p, adwindo_q = ADWINDO_q)\r\n",
    "\r\n",
    "# run\r\n",
    "result_abrupt2_b500  = start_adwin(data_stream_abrupt2, stream_name_abrupt2)"
   ],
   "outputs": [],
   "metadata": {}
  },
  {
   "cell_type": "markdown",
   "source": [
    "### Gradual Drift"
   ],
   "metadata": {}
  },
  {
   "cell_type": "code",
   "execution_count": null,
   "source": [
    "# reset ADWIN\r\n",
    "adwin = awd.ADWINDO(delta = DELTA, clock = CLOCK, grace = GRACE, max_buckets = MAX_BUCKETS, min_window_length = MIN_WINDOW_LENGTH, algo = 'classic', adwindo_p = ADWINDO_p, adwindo_q = ADWINDO_q)\r\n",
    "\r\n",
    "# run\r\n",
    "result_gradual_b500 = start_adwin(data_stream_gradual, stream_name_gradual)"
   ],
   "outputs": [],
   "metadata": {}
  },
  {
   "cell_type": "markdown",
   "source": [
    "## 6.9. Rerun Analysis with Adjusted $\\delta$"
   ],
   "metadata": {}
  },
  {
   "cell_type": "markdown",
   "source": [
    "### 6.9.1. $\\delta = 0.01, buckets_{\\mathrm{max}}=50$"
   ],
   "metadata": {}
  },
  {
   "cell_type": "code",
   "execution_count": null,
   "source": [
    "# \\delta is ADWIN algorithm threshhold; must be between 0 and 1\n",
    "DELTA = 0.01\n",
    "# (grace period + 1) is minimum width of ADWIN window at which a drift analysis is run\n",
    "GRACE = 1\n",
    "# clock is the period (1/frequency) in number of data entry points for checking for drift\n",
    "# higher means it will check less often\n",
    "# e.g. if clock = 60, it only checks for a drift on every 60th data point\n",
    "CLOCK = 1\n",
    "# max buckets - more buckets lead to smoother approximation and more accurate drift detection with the\n",
    "#   expense of additional computation\n",
    "MAX_BUCKETS = 50\n",
    "# min window length\n",
    "MIN_WINDOW_LENGTH = 1\n",
    "# the seed is the starting point in the \"random\" number generator table, setting the seed ensures repeatable \"random\" numbers for running experiments - cET\n",
    "SEED = np.random.seed(42)"
   ],
   "outputs": [],
   "metadata": {}
  },
  {
   "cell_type": "markdown",
   "source": [
    "#### Abrupt 1"
   ],
   "metadata": {}
  },
  {
   "cell_type": "code",
   "execution_count": null,
   "source": [
    "# reset ADWIN\r\n",
    "adwin = awd.ADWINDO(delta = DELTA, clock = CLOCK, grace = GRACE, max_buckets = MAX_BUCKETS, min_window_length = MIN_WINDOW_LENGTH, algo = 'classic', adwindo_p = ADWINDO_p, adwindo_q = ADWINDO_q)\r\n",
    "\r\n",
    "# run\r\n",
    "result_abrupt1_d01_b50 = start_adwin(data_stream_abrupt1, stream_name_abrupt1)"
   ],
   "outputs": [],
   "metadata": {
    "scrolled": true
   }
  },
  {
   "cell_type": "markdown",
   "source": [
    "#### Abrupt 2"
   ],
   "metadata": {}
  },
  {
   "cell_type": "code",
   "execution_count": null,
   "source": [
    "# reset ADWIN\r\n",
    "adwin = awd.ADWINDO(delta = DELTA, clock = CLOCK, grace = GRACE, max_buckets = MAX_BUCKETS, min_window_length = MIN_WINDOW_LENGTH, algo = 'classic', adwindo_p = ADWINDO_p, adwindo_q = ADWINDO_q)\r\n",
    "\r\n",
    "# run\r\n",
    "result_abrupt2_d01_b50 = start_adwin(data_stream_abrupt2, stream_name_abrupt2)"
   ],
   "outputs": [],
   "metadata": {}
  },
  {
   "cell_type": "markdown",
   "source": [
    "#### Gradual Drift"
   ],
   "metadata": {}
  },
  {
   "cell_type": "code",
   "execution_count": null,
   "source": [
    "# reset ADWIN\r\n",
    "adwin = awd.ADWINDO(delta = DELTA, clock = CLOCK, grace = GRACE, max_buckets = MAX_BUCKETS, min_window_length = MIN_WINDOW_LENGTH, algo = 'classic', adwindo_p = ADWINDO_p, adwindo_q = ADWINDO_q)\r\n",
    "\r\n",
    "# run\r\n",
    "result_gradual_d01_b50 = start_adwin(data_stream_gradual, stream_name_gradual)"
   ],
   "outputs": [],
   "metadata": {
    "scrolled": true
   }
  },
  {
   "cell_type": "markdown",
   "source": [
    "### 6.9.2. $\\delta = 0.01, buckets_{\\mathrm{max}}=100$"
   ],
   "metadata": {}
  },
  {
   "cell_type": "code",
   "execution_count": null,
   "source": [
    "# \\delta is ADWIN algorithm threshhold; must be between 0 and 1\n",
    "DELTA = 0.01\n",
    "# (grace period + 1) is minimum width of ADWIN window at which a drift analysis is run\n",
    "GRACE = 1\n",
    "# clock is the period (1/frequency) in number of data entry points for checking for drift\n",
    "# higher means it will check less often\n",
    "# e.g. if clock = 60, it only checks for a drift on every 60th data point\n",
    "CLOCK = 1\n",
    "# max buckets - more buckets lead to smoother approximation and more accurate drift detection with the\n",
    "#   expense of additional computation\n",
    "MAX_BUCKETS = 100\n",
    "# min window length\n",
    "MIN_WINDOW_LENGTH = 1\n",
    "# the seed is the starting point in the \"random\" number generator table, setting the seed ensures repeatable \"random\" numbers for running experiments - cET\n",
    "SEED = np.random.seed(42)"
   ],
   "outputs": [],
   "metadata": {}
  },
  {
   "cell_type": "markdown",
   "source": [
    "### Abrupt 1"
   ],
   "metadata": {}
  },
  {
   "cell_type": "code",
   "execution_count": null,
   "source": [
    "# reset ADWIN\n",
    "adwin = awd.ADWINDO(delta = DELTA, clock = CLOCK, grace = GRACE, max_buckets = MAX_BUCKETS, min_window_length = MIN_WINDOW_LENGTH, algo = 'classic', adwindo_p = ADWINDO_p, adwindo_q = ADWINDO_q)\n",
    "\n",
    "# run\n",
    "result_abrupt1_d01_b100 = start_adwin(data_stream_abrupt1, stream_name_abrupt1)"
   ],
   "outputs": [],
   "metadata": {
    "scrolled": true
   }
  },
  {
   "cell_type": "markdown",
   "source": [
    "### Abrupt 2"
   ],
   "metadata": {}
  },
  {
   "cell_type": "code",
   "execution_count": null,
   "source": [
    "# reset ADWIN\n",
    "adwin = awd.ADWINDO(delta = DELTA, clock = CLOCK, grace = GRACE, max_buckets = MAX_BUCKETS, min_window_length = MIN_WINDOW_LENGTH, algo = 'classic', adwindo_p = ADWINDO_p, adwindo_q = ADWINDO_q)\n",
    "\n",
    "# run\n",
    "result_abrupt2_d01_b100 = start_adwin(data_stream_abrupt2, stream_name_abrupt2)"
   ],
   "outputs": [],
   "metadata": {}
  },
  {
   "cell_type": "markdown",
   "source": [
    "### Gradual Drift"
   ],
   "metadata": {}
  },
  {
   "cell_type": "code",
   "execution_count": null,
   "source": [
    "# reset ADWIN\n",
    "adwin = awd.ADWINDO(delta = DELTA, clock = CLOCK, grace = GRACE, max_buckets = MAX_BUCKETS, min_window_length = MIN_WINDOW_LENGTH, algo = 'classic', adwindo_p = ADWINDO_p, adwindo_q = ADWINDO_q)\n",
    "\n",
    "# run\n",
    "result_gradual_d01_b100 = start_adwin(data_stream_gradual, stream_name_gradual)"
   ],
   "outputs": [],
   "metadata": {
    "scrolled": true
   }
  },
  {
   "cell_type": "markdown",
   "source": [
    "### 6.9.3. $\\delta = 0.1, buckets_{\\mathrm{max}}=50$"
   ],
   "metadata": {}
  },
  {
   "cell_type": "code",
   "execution_count": null,
   "source": [
    "# \\delta is ADWIN algorithm threshhold; must be between 0 and 1\n",
    "DELTA = 0.1\n",
    "# (grace period + 1) is minimum width of ADWIN window at which a drift analysis is run\n",
    "GRACE = 1\n",
    "# clock is the period (1/frequency) in number of data entry points for checking for drift\n",
    "# higher means it will check less often\n",
    "# e.g. if clock = 60, it only checks for a drift on every 60th data point\n",
    "CLOCK = 1\n",
    "# max buckets - more buckets lead to smoother approximation and more accurate drift detection with the\n",
    "#   expense of additional computation\n",
    "MAX_BUCKETS = 50\n",
    "# min window length\n",
    "MIN_WINDOW_LENGTH = 1\n",
    "# the seed is the starting point in the \"random\" number generator table, setting the seed ensures repeatable \"random\" numbers for running experiments - cET\n",
    "SEED = np.random.seed(42)"
   ],
   "outputs": [],
   "metadata": {}
  },
  {
   "cell_type": "markdown",
   "source": [
    "### Abrupt 1"
   ],
   "metadata": {}
  },
  {
   "cell_type": "code",
   "execution_count": null,
   "source": [
    "# reset ADWIN\n",
    "adwin = awd.ADWINDO(delta = DELTA, clock = CLOCK, grace = GRACE, max_buckets = MAX_BUCKETS, min_window_length = MIN_WINDOW_LENGTH, algo = 'classic', adwindo_p = ADWINDO_p, adwindo_q = ADWINDO_q)\n",
    "\n",
    "# run\n",
    "result_abrupt1_d1_b50 = start_adwin(data_stream_abrupt1, stream_name_abrupt1)"
   ],
   "outputs": [],
   "metadata": {
    "scrolled": true
   }
  },
  {
   "cell_type": "markdown",
   "source": [
    "### Abrupt 2"
   ],
   "metadata": {}
  },
  {
   "cell_type": "code",
   "execution_count": null,
   "source": [
    "# reset ADWIN\n",
    "adwin = awd.ADWINDO(delta = DELTA, clock = CLOCK, grace = GRACE, max_buckets = MAX_BUCKETS, min_window_length = MIN_WINDOW_LENGTH, algo = 'classic', adwindo_p = ADWINDO_p, adwindo_q = ADWINDO_q)\n",
    "\n",
    "# run\n",
    "result_abrupt2_d1_b50 = start_adwin(data_stream_abrupt2, stream_name_abrupt2)"
   ],
   "outputs": [],
   "metadata": {}
  },
  {
   "cell_type": "markdown",
   "source": [
    "### Gradual Drift"
   ],
   "metadata": {}
  },
  {
   "cell_type": "code",
   "execution_count": null,
   "source": [
    "# reset ADWIN\n",
    "adwin = awd.ADWINDO(delta = DELTA, clock = CLOCK, grace = GRACE, max_buckets = MAX_BUCKETS, min_window_length = MIN_WINDOW_LENGTH, algo = 'classic', adwindo_p = ADWINDO_p, adwindo_q = ADWINDO_q)\n",
    "\n",
    "# run\n",
    "result_gradual_d1_b50 = start_adwin(data_stream_gradual, stream_name_gradual)"
   ],
   "outputs": [],
   "metadata": {
    "scrolled": true
   }
  },
  {
   "cell_type": "markdown",
   "source": [
    "### 6.9.4. $\\delta = 0.1, buckets_{\\mathrm{max}}=100$"
   ],
   "metadata": {}
  },
  {
   "cell_type": "code",
   "execution_count": null,
   "source": [
    "# \\delta is ADWIN algorithm threshhold; must be between 0 and 1\n",
    "DELTA = 0.1\n",
    "# (grace period + 1) is minimum width of ADWIN window at which a drift analysis is run\n",
    "GRACE = 1\n",
    "# clock is the period (1/frequency) in number of data entry points for checking for drift\n",
    "# higher means it will check less often\n",
    "# e.g. if clock = 60, it only checks for a drift on every 60th data point\n",
    "CLOCK = 1\n",
    "# max buckets - more buckets lead to smoother approximation and more accurate drift detection with the\n",
    "#   expense of additional computation\n",
    "MAX_BUCKETS = 100\n",
    "# min window length\n",
    "MIN_WINDOW_LENGTH = 1\n",
    "# the seed is the starting point in the \"random\" number generator table, setting the seed ensures repeatable \"random\" numbers for running experiments - cET\n",
    "SEED = np.random.seed(42)"
   ],
   "outputs": [],
   "metadata": {}
  },
  {
   "cell_type": "markdown",
   "source": [
    "### Abrupt 1"
   ],
   "metadata": {}
  },
  {
   "cell_type": "code",
   "execution_count": null,
   "source": [
    "# reset ADWIN\n",
    "adwin = awd.ADWINDO(delta = DELTA, clock = CLOCK, grace = GRACE, max_buckets = MAX_BUCKETS, min_window_length = MIN_WINDOW_LENGTH, algo = 'classic', adwindo_p = ADWINDO_p, adwindo_q = ADWINDO_q)\n",
    "\n",
    "# run\n",
    "result_abrupt1_d1_b100 = start_adwin(data_stream_abrupt1, stream_name_abrupt1)"
   ],
   "outputs": [],
   "metadata": {
    "scrolled": true
   }
  },
  {
   "cell_type": "markdown",
   "source": [
    "### Abrupt 2"
   ],
   "metadata": {}
  },
  {
   "cell_type": "code",
   "execution_count": null,
   "source": [
    "# reset ADWIN\n",
    "adwin = awd.ADWINDO(delta = DELTA, clock = CLOCK, grace = GRACE, max_buckets = MAX_BUCKETS, min_window_length = MIN_WINDOW_LENGTH, algo = 'classic', adwindo_p = ADWINDO_p, adwindo_q = ADWINDO_q)\n",
    "\n",
    "# run\n",
    "result_abrupt2_d1_b100 = start_adwin(data_stream_abrupt2, stream_name_abrupt2)"
   ],
   "outputs": [],
   "metadata": {}
  },
  {
   "cell_type": "markdown",
   "source": [
    "### Gradual Drift"
   ],
   "metadata": {}
  },
  {
   "cell_type": "code",
   "execution_count": null,
   "source": [
    "#reset ADWIN\n",
    "adwin = awd.ADWINDO(delta = DELTA, clock = CLOCK, grace = GRACE, max_buckets = MAX_BUCKETS, min_window_length = MIN_WINDOW_LENGTH, algo = 'classic', adwindo_p = ADWINDO_p, adwindo_q = ADWINDO_q)\n",
    "\n",
    "# run\n",
    "result_gradual_d1_b100 = start_adwin(data_stream_gradual, stream_name_gradual)"
   ],
   "outputs": [],
   "metadata": {
    "scrolled": true
   }
  },
  {
   "cell_type": "markdown",
   "source": [
    "### 6.9.5. $\\delta = 0.1, buckets_{\\mathrm{max}}=250$"
   ],
   "metadata": {}
  },
  {
   "cell_type": "code",
   "execution_count": null,
   "source": [
    "# \\delta is ADWIN algorithm threshhold; must be between 0 and 1\n",
    "DELTA = 0.1\n",
    "# (grace period - 1) is minimum width of ADWIN window at which a drift analysis is run\n",
    "GRACE = 1\n",
    "# clock is the period (1/frequency) in number of data entry points for checking for drift\n",
    "# higher means it will check less often\n",
    "# e.g. if clock = 60, it only checks for a drift on every 60th data point\n",
    "CLOCK = 1\n",
    "# max buckets - more buckets lead to smoother approximation and more accurate drift detection with the\n",
    "#   expense of additional computation\n",
    "MAX_BUCKETS = 250\n",
    "# min window length\n",
    "MIN_WINDOW_LENGTH = 1\n",
    "# the seed is the starting point in the \"random\" number generator table, setting the seed ensures repeatable \"random\" numbers for running experiments - cET\n",
    "SEED = np.random.seed(42)"
   ],
   "outputs": [],
   "metadata": {}
  },
  {
   "cell_type": "markdown",
   "source": [
    "### Abrupt 1"
   ],
   "metadata": {}
  },
  {
   "cell_type": "code",
   "execution_count": null,
   "source": [
    "# reset ADWIN\n",
    "adwin = awd.ADWINDO(delta = DELTA, clock = CLOCK, grace = GRACE, max_buckets = MAX_BUCKETS, min_window_length = MIN_WINDOW_LENGTH, algo = 'classic', adwindo_p = ADWINDO_p, adwindo_q = ADWINDO_q)\n",
    "\n",
    "# run\n",
    "result_abrupt1_d1_b250 = start_adwin(data_stream_abrupt1, stream_name_abrupt1)"
   ],
   "outputs": [],
   "metadata": {
    "scrolled": true
   }
  },
  {
   "cell_type": "markdown",
   "source": [
    "### Abrupt 2"
   ],
   "metadata": {}
  },
  {
   "cell_type": "code",
   "execution_count": null,
   "source": [
    "# reset ADWIN\n",
    "adwin = awd.ADWINDO(delta = DELTA, clock = CLOCK, grace = GRACE, max_buckets = MAX_BUCKETS, min_window_length = MIN_WINDOW_LENGTH, algo = 'classic', adwindo_p = ADWINDO_p, adwindo_q = ADWINDO_q)\n",
    "\n",
    "# run\n",
    "\n",
    "\n",
    "result_abrupt2_d1_b250 = start_adwin(data_stream_abrupt2, stream_name_abrupt2)"
   ],
   "outputs": [],
   "metadata": {}
  },
  {
   "cell_type": "markdown",
   "source": [
    "### Gradual Drift"
   ],
   "metadata": {}
  },
  {
   "cell_type": "code",
   "execution_count": null,
   "source": [
    "# reset ADWIN\n",
    "adwin = awd.ADWINDO(delta = DELTA, clock = CLOCK, grace = GRACE, max_buckets = MAX_BUCKETS, min_window_length = MIN_WINDOW_LENGTH, algo = 'classic', adwindo_p = ADWINDO_p, adwindo_q = ADWINDO_q)\n",
    "\n",
    "# run\n",
    "result_gradual_d1_b250 = start_adwin(data_stream_gradual, stream_name_gradual)"
   ],
   "outputs": [],
   "metadata": {
    "scrolled": true
   }
  },
  {
   "cell_type": "markdown",
   "source": [
    "### 6.9.6. $\\delta = 0.2, buckets_{\\mathrm{max}}=100$"
   ],
   "metadata": {}
  },
  {
   "cell_type": "code",
   "execution_count": null,
   "source": [
    "# \\delta is ADWIN algorithm threshhold; must be between 0 and 1\n",
    "DELTA = 0.2\n",
    "# (grace period + 1) is minimum width of ADWIN window at which a drift analysis is run\n",
    "GRACE = 1\n",
    "# clock is the period (1/frequency) in number of data entry points for checking for drift\n",
    "# higher means it will check less often\n",
    "# e.g. if clock = 60, it only checks for a drift on every 60th data point\n",
    "CLOCK = 1\n",
    "# max buckets - more buckets lead to smoother approximation and more accurate drift detection with the\n",
    "#   expense of additional computation\n",
    "MAX_BUCKETS = 100\n",
    "# min window length\n",
    "MIN_WINDOW_LENGTH = 1\n",
    "# the seed is the starting point in the \"random\" number generator table, setting the seed ensures repeatable \"random\" numbers for running experiments - cET\n",
    "SEED = np.random.seed(42)"
   ],
   "outputs": [],
   "metadata": {}
  },
  {
   "cell_type": "markdown",
   "source": [
    "### Abrupt 1"
   ],
   "metadata": {}
  },
  {
   "cell_type": "code",
   "execution_count": null,
   "source": [
    "# reset ADWIN\n",
    "adwin = awd.ADWINDO(delta = DELTA, clock = CLOCK, grace = GRACE, max_buckets = MAX_BUCKETS, min_window_length = MIN_WINDOW_LENGTH, algo = 'classic', adwindo_p = ADWINDO_p, adwindo_q = ADWINDO_q)\n",
    "\n",
    "# run\n",
    "result_abrupt1_d2_b100 = start_adwin(data_stream_abrupt1, stream_name_abrupt1)"
   ],
   "outputs": [],
   "metadata": {
    "scrolled": true
   }
  },
  {
   "cell_type": "markdown",
   "source": [
    "### Abrupt 2"
   ],
   "metadata": {}
  },
  {
   "cell_type": "code",
   "execution_count": null,
   "source": [
    "# reset ADWIN\n",
    "adwin = awd.ADWINDO(delta = DELTA, clock = CLOCK, grace = GRACE, max_buckets = MAX_BUCKETS, min_window_length = MIN_WINDOW_LENGTH, algo = 'classic', adwindo_p = ADWINDO_p, adwindo_q = ADWINDO_q)\n",
    "\n",
    "# run\n",
    "result_abrupt2_d2_b100 = start_adwin(data_stream_abrupt2, stream_name_abrupt2)"
   ],
   "outputs": [],
   "metadata": {}
  },
  {
   "cell_type": "markdown",
   "source": [
    "### Gradual Drift"
   ],
   "metadata": {}
  },
  {
   "cell_type": "code",
   "execution_count": null,
   "source": [
    "# reset ADWIN\n",
    "adwin = awd.ADWINDO(delta = DELTA, clock = CLOCK, grace = GRACE, max_buckets = MAX_BUCKETS, min_window_length = MIN_WINDOW_LENGTH, algo = 'classic', adwindo_p = ADWINDO_p, adwindo_q = ADWINDO_q)\n",
    "\n",
    "# run\n",
    "result_gradual_d2_b100 = start_adwin(data_stream_gradual, stream_name_gradual)"
   ],
   "outputs": [],
   "metadata": {
    "scrolled": true
   }
  },
  {
   "cell_type": "markdown",
   "source": [
    "### 6.9.7. $\\delta = 0.2, buckets_{\\mathrm{max}}=400$"
   ],
   "metadata": {}
  },
  {
   "cell_type": "code",
   "execution_count": null,
   "source": [
    "# \\delta is ADWIN algorithm threshhold; must be between 0 and 1\n",
    "DELTA = 0.2\n",
    "# (grace period + 1) is minimum width of ADWIN window at which a drift analysis is run\n",
    "GRACE = 1\n",
    "# clock is the period (1/frequency) in number of data entry points for checking for drift\n",
    "# higher means it will check less often\n",
    "# e.g. if clock = 60, it only checks for a drift on every 60th data point\n",
    "CLOCK = 1\n",
    "# max buckets - more buckets lead to smoother approximation and more accurate drift detection with the\n",
    "#   expense of additional computation\n",
    "MAX_BUCKETS = 400\n",
    "# min window length\n",
    "MIN_WINDOW_LENGTH = 1\n",
    "# the seed is the starting point in the \"random\" number generator table, setting the seed ensures repeatable \"random\" numbers for running experiments - cET\n",
    "SEED = np.random.seed(42)"
   ],
   "outputs": [],
   "metadata": {}
  },
  {
   "cell_type": "markdown",
   "source": [
    "#### Abrupt 1"
   ],
   "metadata": {}
  },
  {
   "cell_type": "code",
   "execution_count": null,
   "source": [
    "# reset ADWIN\n",
    "adwin = awd.ADWINDO(delta = DELTA, clock = CLOCK, grace = GRACE, max_buckets = MAX_BUCKETS, min_window_length = MIN_WINDOW_LENGTH, algo = 'classic', adwindo_p = ADWINDO_p, adwindo_q = ADWINDO_q)\n",
    "\n",
    "# run\n",
    "result_abrupt1_d2_b400 = start_adwin(data_stream_abrupt1, stream_name_abrupt1)"
   ],
   "outputs": [],
   "metadata": {
    "scrolled": true
   }
  },
  {
   "cell_type": "markdown",
   "source": [
    "### Abrupt 2"
   ],
   "metadata": {}
  },
  {
   "cell_type": "code",
   "execution_count": null,
   "source": [
    "# reset ADWIN\n",
    "adwin = awd.ADWINDO(delta = DELTA, clock = CLOCK, grace = GRACE, max_buckets = MAX_BUCKETS, min_window_length = MIN_WINDOW_LENGTH, algo = 'classic', adwindo_p = ADWINDO_p, adwindo_q = ADWINDO_q)\n",
    "\n",
    "# run\n",
    "result_abrupt2_d2_b400 = start_adwin(data_stream_abrupt2, stream_name_abrupt2)"
   ],
   "outputs": [],
   "metadata": {}
  },
  {
   "cell_type": "markdown",
   "source": [
    "### Gradual Drift"
   ],
   "metadata": {}
  },
  {
   "cell_type": "code",
   "execution_count": null,
   "source": [
    "# reset ADWIN\n",
    "adwin = awd.ADWINDO(delta = DELTA, clock = CLOCK, grace = GRACE, max_buckets = MAX_BUCKETS, min_window_length = MIN_WINDOW_LENGTH, algo = 'classic', adwindo_p = ADWINDO_p, adwindo_q = ADWINDO_q)\n",
    "\n",
    "# run\n",
    "result_gradual_d2_b400 = start_adwin(data_stream_gradual, stream_name_gradual)"
   ],
   "outputs": [],
   "metadata": {
    "scrolled": true
   }
  },
  {
   "cell_type": "markdown",
   "source": [
    "## 6.10. Rerun Analysis with Other Adjusted Parameters"
   ],
   "metadata": {}
  },
  {
   "cell_type": "markdown",
   "source": [
    "### 6.10.1. $\\delta = 0.1, buckets_{\\mathrm{max}}=100, n_{\\mathrm{min}}= 10$"
   ],
   "metadata": {}
  },
  {
   "cell_type": "code",
   "execution_count": null,
   "source": [
    "# \\delta is ADWIN algorithm threshhold; must be between 0 and 1\n",
    "DELTA = 0.1\n",
    "# (grace period + 1) is minimum width of ADWIN window at which a drift analysis is run\n",
    "GRACE = 1\n",
    "# clock is the period (1/frequency) in number of data entry points for checking for drift\n",
    "# higher means it will check less often\n",
    "# e.g. if clock = 60, it only checks for a drift on every 60th data point\n",
    "CLOCK = 1\n",
    "# max buckets - more buckets lead to smoother approximation and more accurate drift detection with the\n",
    "#   expense of additional computation\n",
    "MAX_BUCKETS = 100\n",
    "# min window length\n",
    "MIN_WINDOW_LENGTH = 10\n",
    "# the seed is the starting point in the \"random\" number generator table, setting the seed ensures repeatable \"random\" numbers for running experiments - cET\n",
    "SEED = np.random.seed(42)"
   ],
   "outputs": [],
   "metadata": {}
  },
  {
   "cell_type": "markdown",
   "source": [
    "#### Abrupt 1"
   ],
   "metadata": {}
  },
  {
   "cell_type": "code",
   "execution_count": null,
   "source": [
    "# reset ADWIN\n",
    "adwin = awd.ADWINDO(delta = DELTA, clock = CLOCK, grace = GRACE, max_buckets = MAX_BUCKETS, min_window_length = MIN_WINDOW_LENGTH, algo = 'classic', adwindo_p = ADWINDO_p, adwindo_q = ADWINDO_q)\n",
    "\n",
    "# run\n",
    "result_abrupt1_d1_b100_n10 = start_adwin(data_stream_abrupt1, stream_name_abrupt1)"
   ],
   "outputs": [],
   "metadata": {
    "scrolled": true
   }
  },
  {
   "cell_type": "markdown",
   "source": [
    "#### Abrupt 2"
   ],
   "metadata": {}
  },
  {
   "cell_type": "code",
   "execution_count": null,
   "source": [
    "# reset ADWIN\n",
    "adwin = awd.ADWINDO(delta = DELTA, clock = CLOCK, grace = GRACE, max_buckets = MAX_BUCKETS, min_window_length = MIN_WINDOW_LENGTH, algo = 'classic', adwindo_p = ADWINDO_p, adwindo_q = ADWINDO_q)\n",
    "\n",
    "# run\n",
    "result_abrupt2_d1_b100_n10 = start_adwin(data_stream_abrupt2, stream_name_abrupt2)"
   ],
   "outputs": [],
   "metadata": {}
  },
  {
   "cell_type": "markdown",
   "source": [
    "#### Gradual Drift"
   ],
   "metadata": {}
  },
  {
   "cell_type": "code",
   "execution_count": null,
   "source": [
    "# reset ADWIN\n",
    "adwin = awd.ADWINDO(delta = DELTA, clock = CLOCK, grace = GRACE, max_buckets = MAX_BUCKETS, min_window_length = MIN_WINDOW_LENGTH, algo = 'classic', adwindo_p = ADWINDO_p, adwindo_q = ADWINDO_q)\n",
    "\n",
    "# run\n",
    "result_gradual_d1_b100_n10 = start_adwin(data_stream_gradual, stream_name_gradual)"
   ],
   "outputs": [],
   "metadata": {
    "scrolled": true
   }
  },
  {
   "cell_type": "markdown",
   "source": [
    "### 6.10.2. $\\delta = 0.2, buckets_{\\mathrm{max}}=400, grace = 20$"
   ],
   "metadata": {}
  },
  {
   "cell_type": "code",
   "execution_count": null,
   "source": [
    "# \\delta is ADWIN algorithm threshhold; must be between 0 and 1\n",
    "DELTA = 0.2\n",
    "# (grace period + 1) is minimum width of ADWIN window at which a drift analysis is run\n",
    "GRACE = 20\n",
    "# clock is the period (1/frequency) in number of data entry points for checking for drift\n",
    "# higher means it will check less often\n",
    "# e.g. if clock = 60, it only checks for a drift on every 60th data point\n",
    "CLOCK = 1\n",
    "# max buckets - more buckets lead to smoother approximation and more accurate drift detection with the\n",
    "#   expense of additional computation\n",
    "MAX_BUCKETS = 400\n",
    "# min window length\n",
    "MIN_WINDOW_LENGTH = 1\n",
    "# the seed is the starting point in the \"random\" number generator table, setting the seed ensures repeatable \"random\" numbers for running experiments - cET\n",
    "SEED = np.random.seed(42)"
   ],
   "outputs": [],
   "metadata": {}
  },
  {
   "cell_type": "markdown",
   "source": [
    "### Abrupt 1"
   ],
   "metadata": {}
  },
  {
   "cell_type": "code",
   "execution_count": null,
   "source": [
    "# reset ADWIN\n",
    "adwin = awd.ADWINDO(delta = DELTA, clock = CLOCK, grace = GRACE, max_buckets = MAX_BUCKETS, min_window_length = MIN_WINDOW_LENGTH, algo = 'classic', adwindo_p = ADWINDO_p, adwindo_q = ADWINDO_q)\n",
    "\n",
    "# run\n",
    "result_abrupt1_d2_b400_g20 = start_adwin(data_stream_abrupt1, stream_name_abrupt1)"
   ],
   "outputs": [],
   "metadata": {
    "scrolled": true
   }
  },
  {
   "cell_type": "markdown",
   "source": [
    "### Abrupt 2"
   ],
   "metadata": {}
  },
  {
   "cell_type": "code",
   "execution_count": null,
   "source": [
    "# reset ADWIN\n",
    "adwin = awd.ADWINDO(delta = DELTA, clock = CLOCK, grace = GRACE, max_buckets = MAX_BUCKETS, min_window_length = MIN_WINDOW_LENGTH, algo = 'classic', adwindo_p = ADWINDO_p, adwindo_q = ADWINDO_q)\n",
    "\n",
    "# run\n",
    "result_abrupt2_d2_b400_g20 = start_adwin(data_stream_abrupt2, stream_name_abrupt2)"
   ],
   "outputs": [],
   "metadata": {}
  },
  {
   "cell_type": "markdown",
   "source": [
    "### Gradual Drift"
   ],
   "metadata": {}
  },
  {
   "cell_type": "code",
   "execution_count": null,
   "source": [
    "# reset ADWIN\n",
    "adwin = awd.ADWINDO(delta = DELTA, clock = CLOCK, grace = GRACE, max_buckets = MAX_BUCKETS, min_window_length = MIN_WINDOW_LENGTH, algo = 'classic', adwindo_p = ADWINDO_p, adwindo_q = ADWINDO_q)\n",
    "\n",
    "# run\n",
    "result_gradual_d2_b400_g20 = start_adwin(data_stream_gradual, stream_name_gradual)"
   ],
   "outputs": [],
   "metadata": {
    "scrolled": true
   }
  },
  {
   "cell_type": "markdown",
   "source": [
    "### 6.10.3. $\\delta = 0.2, buckets_{\\mathrm{max}}=400, grace = 15, T = 32, n_{\\mathrm{min}}=8$"
   ],
   "metadata": {}
  },
  {
   "cell_type": "code",
   "execution_count": null,
   "source": [
    "# \\delta is ADWIN algorithm threshhold; must be between 0 and 1\n",
    "DELTA = 0.2\n",
    "# (grace period + 1) is minimum width of ADWIN window at which a drift analysis is run\n",
    "GRACE = 15\n",
    "# clock is the period (1/frequency) in number of data entry points for checking for drift\n",
    "# higher means it will check less often\n",
    "# e.g. if clock = 60, it only checks for a drift on every 60th data point\n",
    "CLOCK = 32\n",
    "# max buckets - more buckets lead to smoother approximation and more accurate drift detection with the\n",
    "#   expense of additional computation\n",
    "MAX_BUCKETS = 400\n",
    "# min window length\n",
    "MIN_WINDOW_LENGTH = 8\n",
    "# the seed is the starting point in the \"random\" number generator table, setting the seed ensures repeatable \"random\" numbers for running experiments - cET\n",
    "SEED = np.random.seed(42)"
   ],
   "outputs": [],
   "metadata": {}
  },
  {
   "cell_type": "markdown",
   "source": [
    "### Abrupt 1"
   ],
   "metadata": {}
  },
  {
   "cell_type": "code",
   "execution_count": null,
   "source": [
    "# reset ADWIN\n",
    "adwin = awd.ADWINDO(delta = DELTA, clock = CLOCK, grace = GRACE, max_buckets = MAX_BUCKETS, min_window_length = MIN_WINDOW_LENGTH, algo = 'classic', adwindo_p = ADWINDO_p, adwindo_q = ADWINDO_q)\n",
    "\n",
    "# run\n",
    "result_abrupt1_d2_b400_g15_t32_n8 = start_adwin(data_stream_abrupt1, stream_name_abrupt1)"
   ],
   "outputs": [],
   "metadata": {
    "scrolled": true
   }
  },
  {
   "cell_type": "markdown",
   "source": [
    "### Abrupt 2"
   ],
   "metadata": {}
  },
  {
   "cell_type": "code",
   "execution_count": null,
   "source": [
    "# reset ADWIN\n",
    "adwin = awd.ADWINDO(delta = DELTA, clock = CLOCK, grace = GRACE, max_buckets = MAX_BUCKETS, min_window_length = MIN_WINDOW_LENGTH, algo = 'classic', adwindo_p = ADWINDO_p, adwindo_q = ADWINDO_q)\n",
    "\n",
    "# run\n",
    "result_abrupt2_d2_b400_g15_t32_n8 = start_adwin(data_stream_abrupt2, stream_name_abrupt2)"
   ],
   "outputs": [],
   "metadata": {}
  },
  {
   "cell_type": "markdown",
   "source": [
    "### Gradual Drift"
   ],
   "metadata": {}
  },
  {
   "cell_type": "code",
   "execution_count": null,
   "source": [
    "# reset ADWIN\n",
    "adwin = awd.ADWINDO(delta = DELTA, clock = CLOCK, grace = GRACE, max_buckets = MAX_BUCKETS, min_window_length = MIN_WINDOW_LENGTH, algo = 'classic', adwindo_p = ADWINDO_p, adwindo_q = ADWINDO_q)\n",
    "\n",
    "# run\n",
    "result_gradual_d2_b400_g15_t32_n8 = start_adwin(data_stream_gradual, stream_name_gradual)"
   ],
   "outputs": [],
   "metadata": {
    "scrolled": true
   }
  },
  {
   "cell_type": "markdown",
   "source": [
    "### 6.10.4. $\\delta = 0.2, buckets_{\\mathrm{max}}=400, grace = 15, T = 16, n_{\\mathrm{min}}=8$"
   ],
   "metadata": {}
  },
  {
   "cell_type": "code",
   "execution_count": null,
   "source": [
    "# \\delta is ADWIN algorithm threshhold; must be between 0 and 1\n",
    "DELTA = 0.2\n",
    "# (grace period + 1) is minimum width of ADWIN window at which a drift analysis is run\n",
    "GRACE = 15\n",
    "# clock is the period (1/frequency) in number of data entry points for checking for drift\n",
    "# higher means it will check less often\n",
    "# e.g. if clock = 60, it only checks for a drift on every 60th data point\n",
    "CLOCK = 16\n",
    "# max buckets - more buckets lead to smoother approximation and more accurate drift detection with the\n",
    "#   expense of additional computation\n",
    "MAX_BUCKETS = 400\n",
    "# min window length\n",
    "MIN_WINDOW_LENGTH = 8\n",
    "# the seed is the starting point in the \"random\" number generator table, setting the seed ensures repeatable \"random\" numbers for running experiments - cET\n",
    "SEED = np.random.seed(42)"
   ],
   "outputs": [],
   "metadata": {}
  },
  {
   "cell_type": "markdown",
   "source": [
    "### Abrupt 1"
   ],
   "metadata": {}
  },
  {
   "cell_type": "code",
   "execution_count": null,
   "source": [
    "# reset ADWIN\n",
    "adwin = awd.ADWINDO(delta = DELTA, clock = CLOCK, grace = GRACE, max_buckets = MAX_BUCKETS, min_window_length = MIN_WINDOW_LENGTH, algo = 'classic', adwindo_p = ADWINDO_p, adwindo_q = ADWINDO_q)\n",
    "\n",
    "# run\n",
    "result_abrupt1_d2_b400_g15_t16_n8 = start_adwin(data_stream_abrupt1, stream_name_abrupt1)"
   ],
   "outputs": [],
   "metadata": {
    "scrolled": true
   }
  },
  {
   "cell_type": "markdown",
   "source": [
    "### Abrupt 2"
   ],
   "metadata": {}
  },
  {
   "cell_type": "code",
   "execution_count": null,
   "source": [
    "# reset ADWIN\n",
    "adwin = awd.ADWINDO(delta = DELTA, clock = CLOCK, grace = GRACE, max_buckets = MAX_BUCKETS, min_window_length = MIN_WINDOW_LENGTH, algo = 'classic', adwindo_p = ADWINDO_p, adwindo_q = ADWINDO_q)\n",
    "\n",
    "# run\n",
    "result_abrupt2_d2_b400_g15_t16_n8 = start_adwin(data_stream_abrupt2, stream_name_abrupt2)"
   ],
   "outputs": [],
   "metadata": {}
  },
  {
   "cell_type": "markdown",
   "source": [
    "### Gradual Drift"
   ],
   "metadata": {}
  },
  {
   "cell_type": "code",
   "execution_count": null,
   "source": [
    "#reset ADWIN\n",
    "adwin = awd.ADWINDO(delta = DELTA, clock = CLOCK, grace = GRACE, max_buckets = MAX_BUCKETS, min_window_length = MIN_WINDOW_LENGTH, algo = 'classic', adwindo_p = ADWINDO_p, adwindo_q = ADWINDO_q)\n",
    "\n",
    "# run\n",
    "result_gradual_d2_b400_g15_t16_n8 = start_adwin(data_stream_gradual, stream_name_gradual)"
   ],
   "outputs": [],
   "metadata": {
    "scrolled": true
   }
  },
  {
   "cell_type": "markdown",
   "source": [
    "## 7. Duplicate Drift Pattern Detection\n",
    "Adjusting the parameters to shorten the response time to drifts also increases the number of positive responses. The most influential factor in this trade-off is the maximum number of buckets. An algorithm is added to detect when a drift matches the pattern of a previous drift. This is based on:\n",
    "\n",
    "1. statistical tests to determine if the data points in the windows before the drift are from the same population\n",
    "2. statistical tests to determine if the data points in the windows after the drift are from the same population\n",
    "3. descriptive statistics to compare the rates of changes between the two drifts"
   ],
   "metadata": {}
  },
  {
   "cell_type": "markdown",
   "source": [
    "\n",
    "### New parameters"
   ],
   "metadata": {}
  },
  {
   "cell_type": "markdown",
   "source": [
    "The duplicate drift pattern detection utilizes two new parameters:\n",
    "\n",
    "1. <strong>ADWINDO_p</strong>: the p-value threshold for statistical tests. If the combined p-value of either the pre-drift windows or post-drift windows is above this threshold, the drift is considered a duplicate.\n",
    "2. <strong>ADWINDO_q</strong>: the average absolute difference threshold for descriptive statistics. If the average of the absolute differences between the two drifts is below q, the drift is considered a duplicate."
   ],
   "metadata": {}
  },
  {
   "cell_type": "code",
   "execution_count": null,
   "source": [
    "# \\delta is ADWIN algorithm threshhold; must be between 0 and 1\n",
    "DELTA = 0.2\n",
    "# p is the threshold probability to label a drift detected as a repeat drift pattern\n",
    "ADWINDO_p = 0.70\n",
    "# q is the limit on average absolute deltas for descriptive statistic between two drifts\n",
    "ADWINDO_q = 0.15\n",
    "# grace period is minimum width of ADWIN window at which a drift analysis is run\n",
    "GRACE = 1\n",
    "# clock is the period (1/frequency) in number of data entry points for checking for drift\n",
    "# higher means it will check less often\n",
    "# e.g. if clock = 60, it only checks for a drift on every 60th data point\n",
    "CLOCK = 1\n",
    "# max buckets - more buckets lead to smoother approximation and more accurate drift detection with the\n",
    "#   expense of additional computation\n",
    "MAX_BUCKETS = 400\n",
    "# min window length\n",
    "MIN_WINDOW_LENGTH = 1\n",
    "# the seed is the starting point in the \"random\" number generator table, setting the seed ensures repeatable \"random\" numbers for running experiments - cET\n",
    "SEED = np.random.seed(42)"
   ],
   "outputs": [],
   "metadata": {}
  },
  {
   "cell_type": "markdown",
   "source": [
    "### Abrupt 1"
   ],
   "metadata": {}
  },
  {
   "cell_type": "code",
   "execution_count": null,
   "source": [
    "# reset ADWIN\n",
    "adwin = awd.ADWINDO(delta = DELTA, adwindo_p = ADWINDO_p, adwindo_q = ADWINDO_q, clock = CLOCK, grace = GRACE, max_buckets = MAX_BUCKETS, min_window_length = MIN_WINDOW_LENGTH, algo = 'classic')\n",
    "\n",
    "# run\n",
    "result_abrupt1_d2_b400_g1_t1_n1_p7_q15 = start_adwin(data_stream_abrupt1, stream_name_abrupt1)"
   ],
   "outputs": [],
   "metadata": {
    "scrolled": true
   }
  },
  {
   "cell_type": "markdown",
   "source": [
    "### Abrupt 2"
   ],
   "metadata": {}
  },
  {
   "cell_type": "code",
   "execution_count": null,
   "source": [
    "# reset ADWIN\n",
    "adwin = awd.ADWINDO(delta = DELTA, adwindo_p = ADWINDO_p, adwindo_q = ADWINDO_q, clock = CLOCK, grace = GRACE, max_buckets = MAX_BUCKETS, min_window_length = MIN_WINDOW_LENGTH, algo = 'classic')\n",
    "\n",
    "# run\n",
    "result_abrupt2_d2_b400_g1_t1_n1_p7_q15 = start_adwin(data_stream_abrupt2, stream_name_abrupt2)"
   ],
   "outputs": [],
   "metadata": {}
  },
  {
   "cell_type": "markdown",
   "source": [
    "### Gradual Drift"
   ],
   "metadata": {}
  },
  {
   "cell_type": "code",
   "execution_count": null,
   "source": [
    "#reset ADWIN\n",
    "adwin = awd.ADWINDO(delta = DELTA, adwindo_p = ADWINDO_p, adwindo_q = ADWINDO_q, clock = CLOCK, grace = GRACE, max_buckets = MAX_BUCKETS, min_window_length = MIN_WINDOW_LENGTH, algo = 'classic')\n",
    "\n",
    "#run\n",
    "result_gradual_d2_b400_g1_t1_n1_p7_q15 = start_adwin(data_stream_gradual, stream_name_gradual)"
   ],
   "outputs": [],
   "metadata": {}
  },
  {
   "cell_type": "markdown",
   "source": [
    "## 8. AdwinDo Algorithm\n",
    "In addition to the classic ADWIN window ($W$), keep a fixed-width rolling window of width $\\gamma$ (gamma). When the delta of window means between the ADWIN window and the sliding window reaches or exceeds $\\epsilon$ (epsilon), reduce $W$ to the most recent $\\gamma * \\phi$ elements, where $\\phi$ (phi) is the percentage of $\\gamma$ to reduce $W$ to."
   ],
   "metadata": {}
  },
  {
   "cell_type": "code",
   "execution_count": null,
   "source": [
    "# \\delta is ADWIN algorithm threshhold; must be between 0 and 1\n",
    "DELTA = 0.2\n",
    "# \\epsilon := ADWIN vs. rolling window mean difference threshhold\n",
    "EPSILON = 0.025\n",
    "# \\gamma := width of rolling window\n",
    "GAMMA = 100\n",
    "# \\phi := percentage of \\gamma to reset AdwinDo window width to on drift detection\n",
    "PHI = 0.1\n",
    "# p is the threshhold probability to label a drift detected as a repeat drift pattern\n",
    "ADWINDO_p = 0.7\n",
    "# q is the limit on average absolute deltas for descriptive statistic between two drifts\n",
    "ADWINDO_q = 0.15\n",
    "# grace period is minimum width of ADWIN window at which a drift analysis is run\n",
    "GRACE = 1\n",
    "# clock is the period (1/frequency) in number of data entry points for checking for drift\n",
    "# higher means it will check less often\n",
    "# e.g. if clock = 60, it only checks for a drift on every 60th data point\n",
    "CLOCK = 1\n",
    "# max buckets - more buckets lead to smoother approximation and more accurate drift detection with the\n",
    "#   expense of additional computation\n",
    "MAX_BUCKETS = 250\n",
    "# min window length\n",
    "MIN_WINDOW_LENGTH = 1\n",
    "# the seed is the starting point in the \"random\" number generator table, setting the seed ensures repeatable \"random\" numbers for running experiments - cET\n",
    "SEED = np.random.seed(42)"
   ],
   "outputs": [],
   "metadata": {}
  },
  {
   "cell_type": "markdown",
   "source": [
    "### Abrupt 1"
   ],
   "metadata": {}
  },
  {
   "cell_type": "code",
   "execution_count": null,
   "source": [
    "# reset ADWIN\n",
    "adwin = awd.ADWINDO(delta = DELTA, epsilon = EPSILON, gamma = GAMMA, phi = PHI, adwindo_p = ADWINDO_p, adwindo_q = ADWINDO_q, clock = CLOCK, grace = GRACE, max_buckets = MAX_BUCKETS, min_window_length = MIN_WINDOW_LENGTH)\n",
    "\n",
    "# run\n",
    "result_roll_abrupt1_d2_b250_g1_t1_n1_p7_q15_e025_ga100_ph1 = start_adwin(data_stream_abrupt1, stream_name_abrupt1)"
   ],
   "outputs": [],
   "metadata": {
    "scrolled": true
   }
  },
  {
   "cell_type": "markdown",
   "source": [
    "### Abrupt 2"
   ],
   "metadata": {}
  },
  {
   "cell_type": "code",
   "execution_count": null,
   "source": [
    "#reset ADWIN\n",
    "adwin = awd.ADWINDO(delta = DELTA, epsilon = EPSILON, gamma = GAMMA, phi = PHI, adwindo_p = ADWINDO_p, adwindo_q = ADWINDO_q, clock = CLOCK, grace = GRACE, max_buckets = MAX_BUCKETS, min_window_length = MIN_WINDOW_LENGTH)\n",
    "\n",
    "#run\n",
    "result_roll_abrupt2_d2_b250_g1_t1_n1_p7_q15_e025_ga100_ph1 = start_adwin(data_stream_abrupt2, stream_name_abrupt2)"
   ],
   "outputs": [],
   "metadata": {}
  },
  {
   "cell_type": "markdown",
   "source": [
    "### Gradual Drift"
   ],
   "metadata": {}
  },
  {
   "cell_type": "code",
   "execution_count": null,
   "source": [
    "# reset ADWIN\n",
    "adwin = awd.ADWINDO(delta = DELTA, epsilon = EPSILON, gamma = GAMMA, phi = PHI, adwindo_p = ADWINDO_p, adwindo_q = ADWINDO_q, clock = CLOCK, grace = GRACE, max_buckets = MAX_BUCKETS, min_window_length = MIN_WINDOW_LENGTH)\n",
    "\n",
    "# run\n",
    "result_roll_gradual_d2_b250_g1_t1_n1_p7_q15_e025_ga100_ph1 = start_adwin(data_stream_gradual, stream_name_gradual)"
   ],
   "outputs": [],
   "metadata": {}
  },
  {
   "cell_type": "markdown",
   "source": [
    "## References"
   ],
   "metadata": {}
  },
  {
   "cell_type": "markdown",
   "source": [
    "1. Learning from Time-Changing Data with Adaptive Windowing  \n",
    "   Albert Bifet and Ricard Gavaldà  \n",
    "Proceedings of the 2007 SIAM International Conference on Data Mining (SDM). 2007, 443-448 "
   ],
   "metadata": {}
  }
 ],
 "metadata": {
  "kernelspec": {
   "display_name": "Python 3",
   "language": "python",
   "name": "python3"
  },
  "language_info": {
   "codemirror_mode": {
    "name": "ipython",
    "version": 3
   },
   "file_extension": ".py",
   "mimetype": "text/x-python",
   "name": "python",
   "nbconvert_exporter": "python",
   "pygments_lexer": "ipython3",
   "version": "3.7.8"
  }
 },
 "nbformat": 4,
 "nbformat_minor": 5
}